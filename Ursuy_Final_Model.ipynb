{
 "cells": [
  {
   "cell_type": "markdown",
   "metadata": {},
   "source": [
    "# XGB and RF Model"
   ]
  },
  {
   "cell_type": "code",
   "execution_count": 1,
   "metadata": {
    "ExecuteTime": {
     "end_time": "2019-03-06T07:34:34.854445Z",
     "start_time": "2019-03-06T07:34:33.787124Z"
    }
   },
   "outputs": [],
   "source": [
    "import pandas as pd\n",
    "import numpy as np\n",
    "from sklearn.ensemble import RandomForestClassifier\n",
    "from sklearn.metrics import roc_auc_score\n",
    "from xgboost import XGBClassifier, plot_importance\n",
    "import matplotlib.pyplot as plt"
   ]
  },
  {
   "cell_type": "code",
   "execution_count": 2,
   "metadata": {
    "ExecuteTime": {
     "end_time": "2019-03-06T07:34:37.453459Z",
     "start_time": "2019-03-06T07:34:34.856782Z"
    }
   },
   "outputs": [],
   "source": [
    "df = pd.read_csv(\"../data/clean_train.csv\").drop(columns=\"Unnamed: 0\")"
   ]
  },
  {
   "cell_type": "code",
   "execution_count": 3,
   "metadata": {
    "ExecuteTime": {
     "end_time": "2019-03-06T07:34:38.307900Z",
     "start_time": "2019-03-06T07:34:37.455005Z"
    }
   },
   "outputs": [],
   "source": [
    "join_df = pd.read_csv(\"../data/purchase_counts.csv\").drop(columns=\"Unnamed: 0\")"
   ]
  },
  {
   "cell_type": "code",
   "execution_count": 4,
   "metadata": {
    "ExecuteTime": {
     "end_time": "2019-03-06T07:34:41.326430Z",
     "start_time": "2019-03-06T07:34:38.310680Z"
    }
   },
   "outputs": [],
   "source": [
    "max_features = pd.read_csv(\"../data/max_features.csv\")"
   ]
  },
  {
   "cell_type": "code",
   "execution_count": 5,
   "metadata": {
    "ExecuteTime": {
     "end_time": "2019-03-06T07:34:41.425548Z",
     "start_time": "2019-03-06T07:34:41.329586Z"
    }
   },
   "outputs": [],
   "source": [
    "max_features = max_features.drop(columns=[\"week1_purchaser\", \"week2_purchaser\", \"US\", \"GB\", \"activity_variance\", \n",
    "                                         \"Week_10_Count\"])"
   ]
  },
  {
   "cell_type": "code",
   "execution_count": 6,
   "metadata": {
    "ExecuteTime": {
     "end_time": "2019-03-06T07:34:41.446260Z",
     "start_time": "2019-03-06T07:34:41.427600Z"
    }
   },
   "outputs": [],
   "source": [
    "join_df.index = join_df.user_id_hash\n",
    "join_df.drop(columns=\"user_id_hash\", inplace=True)"
   ]
  },
  {
   "cell_type": "code",
   "execution_count": 7,
   "metadata": {
    "ExecuteTime": {
     "end_time": "2019-03-06T07:34:42.048031Z",
     "start_time": "2019-03-06T07:34:41.448209Z"
    }
   },
   "outputs": [],
   "source": [
    "df = df.join(join_df, on=\"user_id_hash\", how=\"left\")"
   ]
  },
  {
   "cell_type": "code",
   "execution_count": 8,
   "metadata": {
    "ExecuteTime": {
     "end_time": "2019-03-06T07:34:42.057683Z",
     "start_time": "2019-03-06T07:34:42.049852Z"
    }
   },
   "outputs": [],
   "source": [
    "df.purchase_count = df.purchase_count.fillna(value=0)"
   ]
  },
  {
   "cell_type": "code",
   "execution_count": 9,
   "metadata": {
    "ExecuteTime": {
     "end_time": "2019-03-06T07:34:42.752939Z",
     "start_time": "2019-03-06T07:34:42.060006Z"
    }
   },
   "outputs": [],
   "source": [
    "df = df.join(max_features.set_index(\"user_id_hash\"), on=\"user_id_hash\", how=\"left\")"
   ]
  },
  {
   "cell_type": "code",
   "execution_count": 10,
   "metadata": {
    "ExecuteTime": {
     "end_time": "2019-03-06T07:34:43.013264Z",
     "start_time": "2019-03-06T07:34:42.754816Z"
    }
   },
   "outputs": [],
   "source": [
    "df = df.drop(columns=[\"previous_sessions_duration\", \"avg_count_per_session\", \"avg_purchase_amt_per_session\",\n",
    "                      \"session_index\", \"purchase_amt_total\" , \"GB\", \"Week_4_Count\", \"Week_3_Count\", \"Week_2_Count\",\n",
    "                      \"PH\", \"Week_6_Count\", \"total_countries\", \"Week_8_Count\", \"Week_1_Count\", \n",
    "                      \"Week_10_Count\", \"Week_5_Count\", \"Week_7_Count\", \"CA\", \"Week_9_Count\",\n",
    "                      \"purchase_amt_total\", \"duration_session_ratio\"])"
   ]
  },
  {
   "cell_type": "code",
   "execution_count": 11,
   "metadata": {
    "ExecuteTime": {
     "end_time": "2019-03-06T07:34:43.026006Z",
     "start_time": "2019-03-06T07:34:43.015051Z"
    }
   },
   "outputs": [],
   "source": [
    "df.loc[:, \"avg_session_length\"] = df.loc[:, \"avg_session_length\"]/60/60"
   ]
  },
  {
   "cell_type": "markdown",
   "metadata": {},
   "source": [
    "## Prep Data"
   ]
  },
  {
   "cell_type": "code",
   "execution_count": 13,
   "metadata": {
    "ExecuteTime": {
     "end_time": "2019-03-06T07:34:43.095487Z",
     "start_time": "2019-03-06T07:34:43.067391Z"
    }
   },
   "outputs": [],
   "source": [
    "X = df.drop(columns=[\"week1_purchaser\", \"week2_purchaser\", \"user_id_hash\"])\n",
    "y1 = df.week1_purchaser\n",
    "y2 = df.week2_purchaser"
   ]
  },
  {
   "cell_type": "markdown",
   "metadata": {},
   "source": [
    "Using 50% of data to train since we are predicting about 312,000 users for submission"
   ]
  },
  {
   "cell_type": "code",
   "execution_count": 14,
   "metadata": {
    "ExecuteTime": {
     "end_time": "2019-03-06T07:34:43.101546Z",
     "start_time": "2019-03-06T07:34:43.097522Z"
    }
   },
   "outputs": [
    {
     "data": {
      "text/plain": [
       "309434"
      ]
     },
     "execution_count": 14,
     "metadata": {},
     "output_type": "execute_result"
    }
   ],
   "source": [
    "int(len(df) * 0.5)"
   ]
  },
  {
   "cell_type": "code",
   "execution_count": 15,
   "metadata": {
    "ExecuteTime": {
     "end_time": "2019-03-06T07:34:43.106219Z",
     "start_time": "2019-03-06T07:34:43.103117Z"
    }
   },
   "outputs": [],
   "source": [
    "split = int(len(df) * 0.5)"
   ]
  },
  {
   "cell_type": "code",
   "execution_count": 16,
   "metadata": {
    "ExecuteTime": {
     "end_time": "2019-03-06T07:34:43.115416Z",
     "start_time": "2019-03-06T07:34:43.110890Z"
    }
   },
   "outputs": [],
   "source": [
    "X_train, X_test = X[:split], X[split:]\n",
    "y1_train, y1_test = y1[:split], y2[split:]\n",
    "y2_train, y2_test = y2[:split], y2[split:]"
   ]
  },
  {
   "cell_type": "markdown",
   "metadata": {},
   "source": [
    "## Set up models"
   ]
  },
  {
   "cell_type": "markdown",
   "metadata": {},
   "source": [
    "Use 80-85% of columns per tree"
   ]
  },
  {
   "cell_type": "code",
   "execution_count": 17,
   "metadata": {
    "ExecuteTime": {
     "end_time": "2019-03-06T07:34:43.121157Z",
     "start_time": "2019-03-06T07:34:43.117712Z"
    }
   },
   "outputs": [
    {
     "data": {
      "text/plain": [
       "22"
      ]
     },
     "execution_count": 17,
     "metadata": {},
     "output_type": "execute_result"
    }
   ],
   "source": [
    "len(X_train.columns)"
   ]
  },
  {
   "cell_type": "code",
   "execution_count": 18,
   "metadata": {
    "ExecuteTime": {
     "end_time": "2019-03-06T07:34:43.132528Z",
     "start_time": "2019-03-06T07:34:43.127365Z"
    }
   },
   "outputs": [
    {
     "data": {
      "text/plain": [
       "16.5"
      ]
     },
     "execution_count": 18,
     "metadata": {},
     "output_type": "execute_result"
    }
   ],
   "source": [
    "len(X_train.columns)*.75"
   ]
  },
  {
   "cell_type": "code",
   "execution_count": 19,
   "metadata": {
    "ExecuteTime": {
     "end_time": "2019-03-06T07:34:43.141901Z",
     "start_time": "2019-03-06T07:34:43.135301Z"
    }
   },
   "outputs": [],
   "source": [
    "rf = RandomForestClassifier(n_estimators=200, n_jobs=-1, min_samples_leaf=13, max_features=0.8)\n",
    "xgb = XGBClassifier(max_depth=3, learning_rate=0.25, n_estimators=200, n_jobs=-1, colsample_bytree=0.85)"
   ]
  },
  {
   "cell_type": "markdown",
   "metadata": {},
   "source": [
    "## Train"
   ]
  },
  {
   "cell_type": "code",
   "execution_count": 20,
   "metadata": {
    "ExecuteTime": {
     "end_time": "2019-03-06T07:36:01.563111Z",
     "start_time": "2019-03-06T07:34:43.144019Z"
    }
   },
   "outputs": [],
   "source": [
    "xgb_week1 = xgb.fit(X_train, y1_train)\n",
    "xgb_week2 = xgb.fit(X_train, y2_train)\n",
    "rf_week1 = rf.fit(X_train, y1_train)\n",
    "rf_week2 = rf.fit(X_train, y2_train)"
   ]
  },
  {
   "cell_type": "markdown",
   "metadata": {},
   "source": [
    "## Predict"
   ]
  },
  {
   "cell_type": "code",
   "execution_count": 21,
   "metadata": {
    "ExecuteTime": {
     "end_time": "2019-03-06T07:36:07.807325Z",
     "start_time": "2019-03-06T07:36:01.565244Z"
    }
   },
   "outputs": [],
   "source": [
    "xgb_pred1 = xgb_week1.predict_proba(X_test)[:,1]\n",
    "xgb_pred2 = xgb_week2.predict_proba(X_test)[:,1]\n",
    "xgb_pred1_train = xgb_week1.predict_proba(X_train)[:,1]\n",
    "xgb_pred2_train = xgb_week2.predict_proba(X_train)[:,1]\n",
    "rf_pred1 = rf_week1.predict_proba(X_test)[:,1]\n",
    "rf_pred2 = rf_week2.predict_proba(X_test)[:,1]\n",
    "rf_pred1_train = rf_week1.predict_proba(X_train)[:,1]\n",
    "rf_pred2_train = rf_week2.predict_proba(X_train)[:,1]"
   ]
  },
  {
   "cell_type": "code",
   "execution_count": 22,
   "metadata": {
    "ExecuteTime": {
     "end_time": "2019-03-06T07:36:08.305640Z",
     "start_time": "2019-03-06T07:36:07.810092Z"
    }
   },
   "outputs": [
    {
     "name": "stdout",
     "output_type": "stream",
     "text": [
      "XGB Week1 Train: 0.9989401207392606\n",
      "XGB Week1 Val: 0.9941076240829875\n",
      "XGB Week2 Train: 0.9983374509053123\n",
      "XGB Week2 Val: 0.9941076240829875\n"
     ]
    }
   ],
   "source": [
    "print(f\"XGB Week1 Train: {roc_auc_score(y1_train, xgb_pred1_train)}\")\n",
    "print(f\"XGB Week1 Val: {roc_auc_score(y1_test, xgb_pred1)}\")\n",
    "print(f\"XGB Week2 Train: {roc_auc_score(y2_train, xgb_pred2_train)}\")\n",
    "print(f\"XGB Week2 Val: {roc_auc_score(y2_test, xgb_pred2)}\")"
   ]
  },
  {
   "cell_type": "code",
   "execution_count": 23,
   "metadata": {
    "ExecuteTime": {
     "end_time": "2019-03-06T07:36:08.685449Z",
     "start_time": "2019-03-06T07:36:08.308005Z"
    }
   },
   "outputs": [
    {
     "name": "stdout",
     "output_type": "stream",
     "text": [
      "RF Week1 Train: 0.9991680903013287\n",
      "RF Week1 Val: 0.9927091793272849\n",
      "RF Week2 Train: 0.9989178554535013\n",
      "RF Week2 Val: 0.992709179327285\n"
     ]
    }
   ],
   "source": [
    "print(f\"RF Week1 Train: {roc_auc_score(y1_train, rf_pred1_train)}\")\n",
    "print(f\"RF Week1 Val: {roc_auc_score(y1_test, rf_pred1)}\")\n",
    "print(f\"RF Week2 Train: {roc_auc_score(y2_train, rf_pred2_train)}\")\n",
    "print(f\"RF Week2 Val: {roc_auc_score(y2_test, rf_pred2)}\")"
   ]
  },
  {
   "cell_type": "markdown",
   "metadata": {},
   "source": [
    "## Train Full Data"
   ]
  },
  {
   "cell_type": "code",
   "execution_count": 24,
   "metadata": {
    "ExecuteTime": {
     "end_time": "2019-03-06T07:36:08.935558Z",
     "start_time": "2019-03-06T07:36:08.688426Z"
    }
   },
   "outputs": [],
   "source": [
    "unique_users = pd.DataFrame(df.user_id_hash.unique(), columns=[\"user_id_hash\"])"
   ]
  },
  {
   "cell_type": "code",
   "execution_count": 25,
   "metadata": {
    "ExecuteTime": {
     "end_time": "2019-03-06T07:36:09.452662Z",
     "start_time": "2019-03-06T07:36:08.937399Z"
    }
   },
   "outputs": [],
   "source": [
    "submission = pd.read_csv(\"../data/sample_submission_2.csv\")"
   ]
  },
  {
   "cell_type": "code",
   "execution_count": 27,
   "metadata": {
    "ExecuteTime": {
     "end_time": "2019-03-06T07:39:06.792849Z",
     "start_time": "2019-03-06T07:36:09.468220Z"
    }
   },
   "outputs": [
    {
     "name": "stdout",
     "output_type": "stream",
     "text": [
      "Week1 Train: 0.998763448206829\n",
      "Week2 Train: 0.9988072023539776\n"
     ]
    }
   ],
   "source": [
    "rf = RandomForestClassifier(n_estimators=200, n_jobs=-1, min_samples_leaf=13, max_features=0.8)\n",
    "rf_week1 = rf.fit(X, y1)\n",
    "rf_week2 = rf.fit(X, y2)\n",
    "rf_week1_pred = rf_week1.predict_proba(X)[:,1]\n",
    "rf_week2_pred = rf_week2.predict_proba(X)[:,1]\n",
    "print(f\"Week1 Train: {roc_auc_score(y1, rf_week1_pred)}\")\n",
    "print(f\"Week2 Train: {roc_auc_score(y2, rf_week2_pred)}\")"
   ]
  },
  {
   "cell_type": "code",
   "execution_count": 28,
   "metadata": {
    "ExecuteTime": {
     "end_time": "2019-03-06T07:39:06.903904Z",
     "start_time": "2019-03-06T07:39:06.795226Z"
    }
   },
   "outputs": [],
   "source": [
    "rf_features = sorted(list(zip(X.columns, rf_week1.feature_importances_)), key=lambda x: x[1], reverse=True)"
   ]
  },
  {
   "cell_type": "code",
   "execution_count": 29,
   "metadata": {
    "ExecuteTime": {
     "end_time": "2019-03-06T07:39:06.910561Z",
     "start_time": "2019-03-06T07:39:06.906238Z"
    }
   },
   "outputs": [
    {
     "name": "stdout",
     "output_type": "stream",
     "text": [
      "event_value  |  0.2475\n",
      "num_Week9_sessions  |  0.2415\n",
      "event_value_per_session  |  0.1653\n",
      "purchase_count  |  0.1296\n",
      "total_session_length  |  0.0787\n",
      "avg_session_length  |  0.0431\n",
      "num_total_sessions  |  0.0202\n",
      "num_Week8_sessions  |  0.0191\n",
      "days_since_creation  |  0.0120\n",
      "avg_attributes_per_session  |  0.0103\n",
      "activity_variance  |  0.0098\n",
      "num_Week7_sessions  |  0.0067\n",
      "num_Week6_sessions  |  0.0035\n",
      "num_Week5_sessions  |  0.0026\n",
      "Android OS  |  0.0021\n"
     ]
    }
   ],
   "source": [
    "for f in rf_features[:15]:\n",
    "    print(f\"{f[0]}  |  {f[1]:.4f}\")"
   ]
  },
  {
   "cell_type": "code",
   "execution_count": 30,
   "metadata": {
    "ExecuteTime": {
     "end_time": "2019-03-06T07:39:43.213368Z",
     "start_time": "2019-03-06T07:39:06.913711Z"
    }
   },
   "outputs": [
    {
     "name": "stdout",
     "output_type": "stream",
     "text": [
      "Week1 Train: 0.9975945226809051\n",
      "Week2 Train: 0.9967698178495873\n"
     ]
    }
   ],
   "source": [
    "xgb = XGBClassifier(max_depth=3, learning_rate=0.25, n_estimators=200, n_jobs=-1, colsample_bytree=0.85)\n",
    "xgb_week1 = xgb.fit(X, y1.values)\n",
    "xgb_week2 = xgb.fit(X, y2.values)\n",
    "xgb_week1_pred = xgb_week1.predict_proba(X)[:,1]\n",
    "xgb_week2_pred = xgb_week2.predict_proba(X)[:,1]\n",
    "print(f\"Week1 Train: {roc_auc_score(y1, xgb_week1_pred)}\")\n",
    "print(f\"Week2 Train: {roc_auc_score(y2, xgb_week2_pred)}\")"
   ]
  },
  {
   "cell_type": "code",
   "execution_count": 31,
   "metadata": {
    "ExecuteTime": {
     "end_time": "2019-03-06T07:39:43.224293Z",
     "start_time": "2019-03-06T07:39:43.215471Z"
    }
   },
   "outputs": [],
   "source": [
    "xgb_features = sorted(list(zip(X.columns, xgb_week1.feature_importances_)), key=lambda x: x[1], reverse=True)"
   ]
  },
  {
   "cell_type": "code",
   "execution_count": 32,
   "metadata": {
    "ExecuteTime": {
     "end_time": "2019-03-06T07:39:43.237232Z",
     "start_time": "2019-03-06T07:39:43.229649Z"
    }
   },
   "outputs": [
    {
     "name": "stdout",
     "output_type": "stream",
     "text": [
      "event_value  |  0.3605\n",
      "total_session_length  |  0.1142\n",
      "num_Week9_sessions  |  0.0932\n",
      "event_value_per_session  |  0.0901\n",
      "avg_session_length  |  0.0886\n",
      "purchase_count  |  0.0824\n",
      "activity_variance  |  0.0256\n",
      "num_Week8_sessions  |  0.0233\n",
      "avg_attributes_per_session  |  0.0194\n",
      "days_since_creation  |  0.0163\n",
      "num_Week7_sessions  |  0.0140\n",
      "num_total_sessions  |  0.0124\n",
      "Android OS  |  0.0101\n",
      "num_Week4_sessions  |  0.0093\n",
      "num_Week6_sessions  |  0.0093\n",
      "num_Week5_sessions  |  0.0078\n",
      "US  |  0.0062\n",
      "num_Week3_sessions  |  0.0054\n",
      "iOS  |  0.0047\n",
      "IN  |  0.0039\n",
      "num_Week2_sessions  |  0.0023\n",
      "num_Week10_sessions  |  0.0008\n"
     ]
    }
   ],
   "source": [
    "for f in xgb_features:\n",
    "    print(f\"{f[0]}  |  {f[1]:.4f}\")"
   ]
  },
  {
   "cell_type": "code",
   "execution_count": 33,
   "metadata": {
    "ExecuteTime": {
     "end_time": "2019-03-06T07:39:43.876984Z",
     "start_time": "2019-03-06T07:39:43.239913Z"
    }
   },
   "outputs": [
    {
     "data": {
      "image/png": "[encoded data removed]",
      "text/plain": [
       "<Figure size 432x288 with 1 Axes>"
      ]
     },
     "metadata": {
      "needs_background": "light"
     },
     "output_type": "display_data"
    }
   ],
   "source": [
    "plot_importance(xgb_week1)\n",
    "plt.savefig(\"../data/xgb_features.png\")\n",
    "plt.savefig(\"../data/feature_importance.jpeg\", bbox_inches=\"tight\")\n",
    "plt.show()"
   ]
  },
  {
   "cell_type": "markdown",
   "metadata": {},
   "source": [
    "## Join XGB Predictions with Submission"
   ]
  },
  {
   "cell_type": "code",
   "execution_count": 34,
   "metadata": {
    "ExecuteTime": {
     "end_time": "2019-03-06T07:39:43.881238Z",
     "start_time": "2019-03-06T07:39:43.878975Z"
    }
   },
   "outputs": [],
   "source": [
    "predictions = pd.DataFrame(np.vstack((unique_users.user_id_hash, xgb_week1_pred, xgb_week2_pred))).T"
   ]
  },
  {
   "cell_type": "code",
   "execution_count": 35,
   "metadata": {
    "ExecuteTime": {
     "end_time": "2019-03-06T07:39:43.885443Z",
     "start_time": "2019-03-06T07:39:43.883197Z"
    }
   },
   "outputs": [],
   "source": [
    "predictions.columns = [\"user_id_hash\", \"week1\", \"week2\"]\n",
    "predictions.index = predictions[\"user_id_hash\"]\n",
    "predictions = predictions.drop(columns=\"user_id_hash\")"
   ]
  },
  {
   "cell_type": "code",
   "execution_count": 36,
   "metadata": {
    "ExecuteTime": {
     "end_time": "2019-03-06T07:39:43.889564Z",
     "start_time": "2019-03-06T07:39:43.887331Z"
    }
   },
   "outputs": [],
   "source": [
    "submission = submission.join(predictions, on=\"user_id_hash\", how=\"left\")\n",
    "submission = submission.drop(columns=[\"user_purchase_binary_7_days\", \"user_purchase_binary_14_days\"])\n",
    "submission.columns = [\"user_id_hash\", \"user_purchase_binary_7_days\", \"user_purchase_binary_14_days\"]"
   ]
  },
  {
   "cell_type": "code",
   "execution_count": 37,
   "metadata": {
    "ExecuteTime": {
     "end_time": "2019-03-06T07:39:43.893896Z",
     "start_time": "2019-03-06T07:39:43.891720Z"
    }
   },
   "outputs": [],
   "source": [
    "submission.user_purchase_binary_7_days = submission.user_purchase_binary_7_days.fillna(value=np.mean(xgb_week1_pred))\n",
    "submission.user_purchase_binary_14_days = submission.user_purchase_binary_14_days.fillna(value=np.mean(xgb_week2_pred))"
   ]
  },
  {
   "cell_type": "markdown",
   "metadata": {},
   "source": [
    "### Write to CSV for submission"
   ]
  },
  {
   "cell_type": "code",
   "execution_count": 38,
   "metadata": {
    "ExecuteTime": {
     "end_time": "2019-03-06T07:39:43.898640Z",
     "start_time": "2019-03-06T07:39:43.895969Z"
    }
   },
   "outputs": [],
   "source": [
    "submission.to_csv(\"../data/xgb_predictions.csv\", index=False)"
   ]
  },
  {
   "cell_type": "code",
   "execution_count": null,
   "metadata": {},
   "outputs": [],
   "source": []
  }
 ],
 "metadata": {
  "kernelspec": {
   "display_name": "Python 3",
   "language": "python",
   "name": "python3"
  },
  "language_info": {
   "codemirror_mode": {
    "name": "ipython",
    "version": 3
   },
   "file_extension": ".py",
   "mimetype": "text/x-python",
   "name": "python",
   "nbconvert_exporter": "python",
   "pygments_lexer": "ipython3",
   "version": "3.7.1"
  }
 },
 "nbformat": 4,
 "nbformat_minor": 2
}
