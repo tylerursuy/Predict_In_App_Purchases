{
 "cells": [
  {
   "cell_type": "code",
   "execution_count": 1,
   "metadata": {},
   "outputs": [],
   "source": [
    "import pandas as pd\n",
    "import os\n",
    "import boto3 \n",
    "from io import StringIO\n",
    "import csv\n",
    "import numpy as np\n",
    "from datetime import datetime"
   ]
  },
  {
   "cell_type": "code",
   "execution_count": 2,
   "metadata": {},
   "outputs": [],
   "source": [
    "# bucket_name = 'ml2-group8' # Add your bucket name\n",
    "# sessions = 'sessions.csv'\n",
    "# events = \"events.csv\"\n",
    "# s3 = boto3.resource('s3')\n",
    "# bucket = s3.Bucket(bucket_name) \n",
    "# sessions_obj = bucket.Object(key=sessions) # S3 uses key-value structure where key is your file name\n",
    "# sessions_file = sessions_obj.get()[\"Body\"].read().decode('utf-8') # Read the Body which is the contents of the file.\n",
    "# events_obj = bucket.Object(key=events) # S3 uses key-value structure where key is your file name\n",
    "# events_file = events_obj.get()[\"Body\"].read().decode('utf-8') # Read the Body which is the contents of the file."
   ]
  },
  {
   "cell_type": "markdown",
   "metadata": {},
   "source": [
    "# Reading Clean Sessions"
   ]
  },
  {
   "cell_type": "code",
   "execution_count": 3,
   "metadata": {},
   "outputs": [],
   "source": [
    "sessions = pd.read_csv(\"../clean_sessions.csv\")"
   ]
  },
  {
   "cell_type": "code",
   "execution_count": 6,
   "metadata": {},
   "outputs": [],
   "source": [
    "sessions_df = sessions.drop(columns=[\"Unnamed: 0\"])"
   ]
  },
  {
   "cell_type": "markdown",
   "metadata": {},
   "source": [
    "# Cleaning Sessions (do not need to do again)"
   ]
  },
  {
   "cell_type": "code",
   "execution_count": 42,
   "metadata": {},
   "outputs": [],
   "source": [
    "sessions = sessions_file.split(\"\\n\")\n",
    "events = events_file.split(\"\\n\")"
   ]
  },
  {
   "cell_type": "code",
   "execution_count": 43,
   "metadata": {},
   "outputs": [],
   "source": [
    "session_header = sessions[0].split(\",\")\n",
    "event_header = events[0].split(\",\")"
   ]
  },
  {
   "cell_type": "code",
   "execution_count": 44,
   "metadata": {},
   "outputs": [],
   "source": [
    "sessions = sessions[1:]\n",
    "events = events[1:]"
   ]
  },
  {
   "cell_type": "code",
   "execution_count": 50,
   "metadata": {},
   "outputs": [],
   "source": [
    "sessions = [row.split(\",\") for row in sessions]"
   ]
  },
  {
   "cell_type": "code",
   "execution_count": 64,
   "metadata": {},
   "outputs": [],
   "source": [
    "session_header = session_header[1], session_header[2], session_header[5], session_header[6]\\\n",
    ", session_header[7], session_header[8], session_header[9], session_header[10], session_header[11], \\\n",
    "session_header[12], session_header[19], session_header[21]"
   ]
  },
  {
   "cell_type": "code",
   "execution_count": 68,
   "metadata": {},
   "outputs": [],
   "source": [
    "new_sessions = []\n",
    "for row in sessions:\n",
    "    if len(row) == 22:\n",
    "        new_sessions.append([row[1], row[2], row[5], row[6], row[7], row[8], row[9], row[10], row[11], \n",
    "                            row[12], row[19], row[21]])"
   ]
  },
  {
   "cell_type": "code",
   "execution_count": 134,
   "metadata": {},
   "outputs": [],
   "source": [
    "sessions_df = pd.DataFrame(new_sessions, columns=session_header)"
   ]
  },
  {
   "cell_type": "markdown",
   "metadata": {},
   "source": [
    "## Filtering"
   ]
  },
  {
   "cell_type": "code",
   "execution_count": 135,
   "metadata": {},
   "outputs": [],
   "source": [
    "sessions_df = sessions_df.drop(sessions_df[(sessions_df.is_session == \"false\") | \n",
    "                                           (sessions_df.is_developer == \"true\") |\n",
    "                                           (sessions_df.is_wau == \"true\") | \n",
    "                                           (sessions_df.is_mau == \"true\")].index)"
   ]
  },
  {
   "cell_type": "code",
   "execution_count": 136,
   "metadata": {},
   "outputs": [],
   "source": [
    "sessions_df = sessions_df.drop(columns=[\"is_session\", \"is_developer\", \"is_wau\", \"is_mau\"])"
   ]
  },
  {
   "cell_type": "code",
   "execution_count": 137,
   "metadata": {},
   "outputs": [],
   "source": [
    "sessions_df.start_timestamp = sessions_df.start_timestamp.astype(float)\n",
    "sessions_df.previous_sessions_duration = sessions_df.previous_sessions_duration.astype(float)\n",
    "sessions_df.user_created_timestamp = sessions_df.user_created_timestamp.astype(float)"
   ]
  },
  {
   "cell_type": "code",
   "execution_count": 138,
   "metadata": {},
   "outputs": [],
   "source": [
    "sessions_df.start_timestamp = pd.to_datetime(sessions_df.start_timestamp, unit='ms')\n",
    "sessions_df.user_created_timestamp = pd.to_datetime(sessions_df.user_created_timestamp, unit='ms')"
   ]
  },
  {
   "cell_type": "code",
   "execution_count": 140,
   "metadata": {},
   "outputs": [],
   "source": [
    "sessions_df = sessions_df.sort_values(by=[\"start_timestamp\", \"user_id_hash\", \"session_id\"])"
   ]
  },
  {
   "cell_type": "code",
   "execution_count": 141,
   "metadata": {},
   "outputs": [
    {
     "data": {
      "text/html": [
       "<div>\n",
       "<style scoped>\n",
       "    .dataframe tbody tr th:only-of-type {\n",
       "        vertical-align: middle;\n",
       "    }\n",
       "\n",
       "    .dataframe tbody tr th {\n",
       "        vertical-align: top;\n",
       "    }\n",
       "\n",
       "    .dataframe thead th {\n",
       "        text-align: right;\n",
       "    }\n",
       "</style>\n",
       "<table border=\"1\" class=\"dataframe\">\n",
       "  <thead>\n",
       "    <tr style=\"text-align: right;\">\n",
       "      <th></th>\n",
       "      <th>session_id</th>\n",
       "      <th>start_timestamp</th>\n",
       "      <th>previous_sessions_duration</th>\n",
       "      <th>user_created_timestamp</th>\n",
       "      <th>is_user_first_session</th>\n",
       "      <th>country</th>\n",
       "      <th>session_index</th>\n",
       "      <th>user_id_hash</th>\n",
       "    </tr>\n",
       "  </thead>\n",
       "  <tbody>\n",
       "    <tr>\n",
       "      <th>3079316</th>\n",
       "      <td>4339488202460077611</td>\n",
       "      <td>2018-10-01 07:00:04.526</td>\n",
       "      <td>0.0</td>\n",
       "      <td>2018-10-01 07:00:04.526</td>\n",
       "      <td>true</td>\n",
       "      <td>AU</td>\n",
       "      <td>1</td>\n",
       "      <td>c9bad12f865142f1b3938c9ab8a3003a7882136a2b4a12...</td>\n",
       "    </tr>\n",
       "    <tr>\n",
       "      <th>5760506</th>\n",
       "      <td>7012480646309837595</td>\n",
       "      <td>2018-10-01 07:00:08.476</td>\n",
       "      <td>0.0</td>\n",
       "      <td>2018-10-01 07:00:08.476</td>\n",
       "      <td>true</td>\n",
       "      <td>NZ</td>\n",
       "      <td>1</td>\n",
       "      <td>285863e47df26bf47664c93d45c35ee3b9cfc8e253da23...</td>\n",
       "    </tr>\n",
       "    <tr>\n",
       "      <th>860189</th>\n",
       "      <td>2920311224184894615</td>\n",
       "      <td>2018-10-01 07:01:02.101</td>\n",
       "      <td>1000637.0</td>\n",
       "      <td>2018-10-01 06:44:08.468</td>\n",
       "      <td>false</td>\n",
       "      <td>IN</td>\n",
       "      <td>2</td>\n",
       "      <td>475f8f20576637055c5331513dda4db1d889f5e951c8e5...</td>\n",
       "    </tr>\n",
       "    <tr>\n",
       "      <th>2222180</th>\n",
       "      <td>8483277250870486701</td>\n",
       "      <td>2018-10-01 07:01:30.694</td>\n",
       "      <td>0.0</td>\n",
       "      <td>2018-10-01 07:01:30.694</td>\n",
       "      <td>true</td>\n",
       "      <td>US</td>\n",
       "      <td>1</td>\n",
       "      <td>4bc7b52d56b24d258ba1746994492f354fd4b17fcaae81...</td>\n",
       "    </tr>\n",
       "    <tr>\n",
       "      <th>2300433</th>\n",
       "      <td>8114762104527844914</td>\n",
       "      <td>2018-10-01 07:01:57.770</td>\n",
       "      <td>2415582.0</td>\n",
       "      <td>2018-10-01 06:18:23.919</td>\n",
       "      <td>false</td>\n",
       "      <td>US</td>\n",
       "      <td>2</td>\n",
       "      <td>82349b0d1a80b42e59519068ded46178778084b9602b9c...</td>\n",
       "    </tr>\n",
       "    <tr>\n",
       "      <th>5137385</th>\n",
       "      <td>2281734275777082249</td>\n",
       "      <td>2018-10-01 07:02:35.704</td>\n",
       "      <td>2962951.0</td>\n",
       "      <td>2018-10-01 05:35:59.965</td>\n",
       "      <td>false</td>\n",
       "      <td>US</td>\n",
       "      <td>2</td>\n",
       "      <td>f563dc33ecdeb24f3e38f3aeb50fc317e7316aab431d9f...</td>\n",
       "    </tr>\n",
       "    <tr>\n",
       "      <th>358267</th>\n",
       "      <td>39412282703486323</td>\n",
       "      <td>2018-10-01 07:02:44.241</td>\n",
       "      <td>5168102.0</td>\n",
       "      <td>2018-10-01 02:43:32.894</td>\n",
       "      <td>false</td>\n",
       "      <td>PH</td>\n",
       "      <td>5</td>\n",
       "      <td>ffd82ac7dd78dfb8634721a5cc66cd7e76e640c1662392...</td>\n",
       "    </tr>\n",
       "    <tr>\n",
       "      <th>4631720</th>\n",
       "      <td>4255960407856033328</td>\n",
       "      <td>2018-10-01 07:02:47.272</td>\n",
       "      <td>0.0</td>\n",
       "      <td>2018-10-01 06:51:24.929</td>\n",
       "      <td>true</td>\n",
       "      <td>AU</td>\n",
       "      <td>1</td>\n",
       "      <td>3b9d68998ff3dd0f2e4bb4955b40839ff55d9c4f0f6b46...</td>\n",
       "    </tr>\n",
       "    <tr>\n",
       "      <th>2300432</th>\n",
       "      <td>2873072320135565407</td>\n",
       "      <td>2018-10-01 07:02:49.772</td>\n",
       "      <td>2450578.0</td>\n",
       "      <td>2018-10-01 06:18:23.919</td>\n",
       "      <td>false</td>\n",
       "      <td>US</td>\n",
       "      <td>3</td>\n",
       "      <td>82349b0d1a80b42e59519068ded46178778084b9602b9c...</td>\n",
       "    </tr>\n",
       "    <tr>\n",
       "      <th>2496512</th>\n",
       "      <td>6553551957396038058</td>\n",
       "      <td>2018-10-01 07:02:56.262</td>\n",
       "      <td>0.0</td>\n",
       "      <td>2018-10-01 07:02:56.262</td>\n",
       "      <td>true</td>\n",
       "      <td>ZA</td>\n",
       "      <td>1</td>\n",
       "      <td>f43feee8a559001f003abd31b61dc2fb2c526dc6c82d83...</td>\n",
       "    </tr>\n",
       "    <tr>\n",
       "      <th>2820322</th>\n",
       "      <td>8746427477484969665</td>\n",
       "      <td>2018-10-01 07:03:05.227</td>\n",
       "      <td>0.0</td>\n",
       "      <td>2018-10-01 07:03:05.227</td>\n",
       "      <td>true</td>\n",
       "      <td>SR</td>\n",
       "      <td>1</td>\n",
       "      <td>5a8605393393d172152323d876fc8e8140ea6f06d57c56...</td>\n",
       "    </tr>\n",
       "    <tr>\n",
       "      <th>2677128</th>\n",
       "      <td>4942066889681208697</td>\n",
       "      <td>2018-10-01 07:03:09.241</td>\n",
       "      <td>1978393.0</td>\n",
       "      <td>2018-10-01 04:18:16.241</td>\n",
       "      <td>false</td>\n",
       "      <td>MY</td>\n",
       "      <td>4</td>\n",
       "      <td>350effb41d20998f31ba342c4c6c6bd8c7e7a834e87bcd...</td>\n",
       "    </tr>\n",
       "    <tr>\n",
       "      <th>5895988</th>\n",
       "      <td>4373827773003635832</td>\n",
       "      <td>2018-10-01 07:03:13.794</td>\n",
       "      <td>0.0</td>\n",
       "      <td>2018-10-01 07:02:59.750</td>\n",
       "      <td>true</td>\n",
       "      <td>HR</td>\n",
       "      <td>1</td>\n",
       "      <td>768bd874f6d1b1018c1cb087410cdd1989395228c8749d...</td>\n",
       "    </tr>\n",
       "    <tr>\n",
       "      <th>3317374</th>\n",
       "      <td>2890721378219647232</td>\n",
       "      <td>2018-10-01 07:03:15.984</td>\n",
       "      <td>2168144.0</td>\n",
       "      <td>2018-10-01 05:45:43.563</td>\n",
       "      <td>false</td>\n",
       "      <td>AU</td>\n",
       "      <td>2</td>\n",
       "      <td>df97fe7c59fcb8ae3fa68746132c360df8d7b209310bdd...</td>\n",
       "    </tr>\n",
       "    <tr>\n",
       "      <th>3041103</th>\n",
       "      <td>1133952179644382997</td>\n",
       "      <td>2018-10-01 07:03:20.634</td>\n",
       "      <td>637709.0</td>\n",
       "      <td>2018-10-01 06:50:40.877</td>\n",
       "      <td>false</td>\n",
       "      <td>PH</td>\n",
       "      <td>2</td>\n",
       "      <td>ce7d2716238bfe1231fbf64e8a24110b0a83890dc76814...</td>\n",
       "    </tr>\n",
       "    <tr>\n",
       "      <th>4753692</th>\n",
       "      <td>1013431241513319893</td>\n",
       "      <td>2018-10-01 07:03:29.321</td>\n",
       "      <td>1814834.0</td>\n",
       "      <td>2018-10-01 02:38:28.955</td>\n",
       "      <td>false</td>\n",
       "      <td>US</td>\n",
       "      <td>4</td>\n",
       "      <td>c1c3ee2fbdabbe1255582339af36270b9724e093dc7bd4...</td>\n",
       "    </tr>\n",
       "    <tr>\n",
       "      <th>55865</th>\n",
       "      <td>69975644525022853</td>\n",
       "      <td>2018-10-01 07:03:31.445</td>\n",
       "      <td>0.0</td>\n",
       "      <td>2018-10-01 07:03:31.445</td>\n",
       "      <td>true</td>\n",
       "      <td>IN</td>\n",
       "      <td>1</td>\n",
       "      <td>d06fa683e6864327aa6ef4cbe782e9cf028858d8a1809a...</td>\n",
       "    </tr>\n",
       "    <tr>\n",
       "      <th>2939318</th>\n",
       "      <td>7967726726265541583</td>\n",
       "      <td>2018-10-01 07:03:31.611</td>\n",
       "      <td>0.0</td>\n",
       "      <td>2018-10-01 07:03:31.611</td>\n",
       "      <td>true</td>\n",
       "      <td>AU</td>\n",
       "      <td>1</td>\n",
       "      <td>5ef53802bddca2fff5fbb325ab17a6ac796ef3e2a73048...</td>\n",
       "    </tr>\n",
       "    <tr>\n",
       "      <th>2571507</th>\n",
       "      <td>7998917458473083754</td>\n",
       "      <td>2018-10-01 07:03:39.506</td>\n",
       "      <td>2672004.0</td>\n",
       "      <td>2018-10-01 02:37:47.224</td>\n",
       "      <td>false</td>\n",
       "      <td>HK</td>\n",
       "      <td>3</td>\n",
       "      <td>b325c882b931fb2edf5a7797ac7f746026f6317e73f33c...</td>\n",
       "    </tr>\n",
       "    <tr>\n",
       "      <th>6228018</th>\n",
       "      <td>4845776359550628795</td>\n",
       "      <td>2018-10-01 07:03:45.078</td>\n",
       "      <td>58421.0</td>\n",
       "      <td>2018-10-01 06:27:01.095</td>\n",
       "      <td>false</td>\n",
       "      <td>ID</td>\n",
       "      <td>2</td>\n",
       "      <td>694b3032c73786998799f157cda3183149f1217e68ac8e...</td>\n",
       "    </tr>\n",
       "    <tr>\n",
       "      <th>23669</th>\n",
       "      <td>7575139591610475133</td>\n",
       "      <td>2018-10-01 07:03:45.715</td>\n",
       "      <td>575885.0</td>\n",
       "      <td>2018-10-01 05:11:11.740</td>\n",
       "      <td>false</td>\n",
       "      <td>IN</td>\n",
       "      <td>2</td>\n",
       "      <td>7f5863727a204828af82bf28ce3be3caaf1d323e07703a...</td>\n",
       "    </tr>\n",
       "    <tr>\n",
       "      <th>5564281</th>\n",
       "      <td>7216783865033306286</td>\n",
       "      <td>2018-10-01 07:04:01.201</td>\n",
       "      <td>3422528.0</td>\n",
       "      <td>2018-10-01 01:47:41.438</td>\n",
       "      <td>false</td>\n",
       "      <td>US</td>\n",
       "      <td>5</td>\n",
       "      <td>55aa4c52e8cb2a549f71005e50cafa9a8f8ad2f1a0689b...</td>\n",
       "    </tr>\n",
       "    <tr>\n",
       "      <th>4964444</th>\n",
       "      <td>2184439221375567535</td>\n",
       "      <td>2018-10-01 07:04:02.521</td>\n",
       "      <td>2469158.0</td>\n",
       "      <td>2018-10-01 06:21:06.094</td>\n",
       "      <td>false</td>\n",
       "      <td>US</td>\n",
       "      <td>2</td>\n",
       "      <td>68c9dfee0fbbc7ff0034ef55774d3e5cd3a85cf0a3530a...</td>\n",
       "    </tr>\n",
       "    <tr>\n",
       "      <th>1270740</th>\n",
       "      <td>3639394220684530810</td>\n",
       "      <td>2018-10-01 07:04:04.993</td>\n",
       "      <td>0.0</td>\n",
       "      <td>2018-10-01 07:04:04.993</td>\n",
       "      <td>true</td>\n",
       "      <td>US</td>\n",
       "      <td>1</td>\n",
       "      <td>38600f78afcf1f649830fb75731ae9cda450f6e287b378...</td>\n",
       "    </tr>\n",
       "    <tr>\n",
       "      <th>3336500</th>\n",
       "      <td>8566226158571145391</td>\n",
       "      <td>2018-10-01 07:04:09.097</td>\n",
       "      <td>0.0</td>\n",
       "      <td>2018-10-01 07:04:09.097</td>\n",
       "      <td>true</td>\n",
       "      <td>CA</td>\n",
       "      <td>1</td>\n",
       "      <td>91bea3ee2db221019a65a6b70fc00cd9352152f4d94035...</td>\n",
       "    </tr>\n",
       "    <tr>\n",
       "      <th>4593497</th>\n",
       "      <td>3517356483592686973</td>\n",
       "      <td>2018-10-01 07:04:15.531</td>\n",
       "      <td>0.0</td>\n",
       "      <td>2018-10-01 07:04:15.531</td>\n",
       "      <td>true</td>\n",
       "      <td>US</td>\n",
       "      <td>1</td>\n",
       "      <td>6920fe2cafa6a59de4f7c10accf742cd49616b40c223a6...</td>\n",
       "    </tr>\n",
       "    <tr>\n",
       "      <th>5909437</th>\n",
       "      <td>1382416533141744301</td>\n",
       "      <td>2018-10-01 07:04:18.302</td>\n",
       "      <td>1586120.0</td>\n",
       "      <td>2018-10-01 05:19:26.674</td>\n",
       "      <td>false</td>\n",
       "      <td>US</td>\n",
       "      <td>2</td>\n",
       "      <td>d039e35e3d1e90fa0d9dcbd841138844402c3a41a96a77...</td>\n",
       "    </tr>\n",
       "    <tr>\n",
       "      <th>5215292</th>\n",
       "      <td>2077203429858049464</td>\n",
       "      <td>2018-10-01 07:04:19.217</td>\n",
       "      <td>0.0</td>\n",
       "      <td>2018-10-01 07:03:36.594</td>\n",
       "      <td>true</td>\n",
       "      <td>NG</td>\n",
       "      <td>1</td>\n",
       "      <td>fd07bf1c1ce13622183bfefe73baf50aa63dafc5eb7d96...</td>\n",
       "    </tr>\n",
       "    <tr>\n",
       "      <th>4753689</th>\n",
       "      <td>4044701645050921634</td>\n",
       "      <td>2018-10-01 07:04:19.259</td>\n",
       "      <td>1858037.0</td>\n",
       "      <td>2018-10-01 02:38:28.955</td>\n",
       "      <td>false</td>\n",
       "      <td>US</td>\n",
       "      <td>5</td>\n",
       "      <td>c1c3ee2fbdabbe1255582339af36270b9724e093dc7bd4...</td>\n",
       "    </tr>\n",
       "    <tr>\n",
       "      <th>5693132</th>\n",
       "      <td>8861607613711017429</td>\n",
       "      <td>2018-10-01 07:04:23.711</td>\n",
       "      <td>0.0</td>\n",
       "      <td>2018-10-01 07:04:20.622</td>\n",
       "      <td>true</td>\n",
       "      <td>ZA</td>\n",
       "      <td>1</td>\n",
       "      <td>c06cf89b636ba5d92c18881fdc877efbbd1f8ff329c789...</td>\n",
       "    </tr>\n",
       "    <tr>\n",
       "      <th>3074280</th>\n",
       "      <td>594416914013239645</td>\n",
       "      <td>2018-10-01 07:04:27.547</td>\n",
       "      <td>261742.0</td>\n",
       "      <td>2018-10-01 04:42:04.927</td>\n",
       "      <td>false</td>\n",
       "      <td>AU</td>\n",
       "      <td>2</td>\n",
       "      <td>0e35b83bb296206991724334af825aaff215254dae8989...</td>\n",
       "    </tr>\n",
       "    <tr>\n",
       "      <th>3536192</th>\n",
       "      <td>491841686711187106</td>\n",
       "      <td>2018-10-01 07:04:36.854</td>\n",
       "      <td>0.0</td>\n",
       "      <td>2018-10-01 07:04:36.854</td>\n",
       "      <td>true</td>\n",
       "      <td>US</td>\n",
       "      <td>1</td>\n",
       "      <td>ce51e11a64b9eea82e049c893899e4e0c28ccfdad11dd3...</td>\n",
       "    </tr>\n",
       "    <tr>\n",
       "      <th>4630200</th>\n",
       "      <td>8360450364356151829</td>\n",
       "      <td>2018-10-01 07:04:42.411</td>\n",
       "      <td>1534455.0</td>\n",
       "      <td>2018-10-01 05:57:50.226</td>\n",
       "      <td>false</td>\n",
       "      <td>SG</td>\n",
       "      <td>2</td>\n",
       "      <td>9af38f8dd98265f832f30093c15e7964da503acd5bcd43...</td>\n",
       "    </tr>\n",
       "    <tr>\n",
       "      <th>179129</th>\n",
       "      <td>2886951411316725967</td>\n",
       "      <td>2018-10-01 07:04:58.083</td>\n",
       "      <td>0.0</td>\n",
       "      <td>2018-10-01 07:04:07.736</td>\n",
       "      <td>true</td>\n",
       "      <td>PH</td>\n",
       "      <td>1</td>\n",
       "      <td>5494e389cbd051980108d50d19ddd78a2e7530d0e1d36c...</td>\n",
       "    </tr>\n",
       "    <tr>\n",
       "      <th>5738004</th>\n",
       "      <td>4010860028906517259</td>\n",
       "      <td>2018-10-01 07:05:00.375</td>\n",
       "      <td>790760.0</td>\n",
       "      <td>2018-10-01 01:30:44.108</td>\n",
       "      <td>false</td>\n",
       "      <td>NZ</td>\n",
       "      <td>9</td>\n",
       "      <td>2393384ef4af8d721d7e29f42ee16b6534186698f2d237...</td>\n",
       "    </tr>\n",
       "    <tr>\n",
       "      <th>2772746</th>\n",
       "      <td>8443613081870623665</td>\n",
       "      <td>2018-10-01 07:05:18.402</td>\n",
       "      <td>0.0</td>\n",
       "      <td>2018-10-01 07:05:18.402</td>\n",
       "      <td>true</td>\n",
       "      <td>US</td>\n",
       "      <td>1</td>\n",
       "      <td>f5653541a17a99afe89315ea4388ea11981901d96b8b21...</td>\n",
       "    </tr>\n",
       "    <tr>\n",
       "      <th>3455984</th>\n",
       "      <td>808838546040485441</td>\n",
       "      <td>2018-10-01 07:05:43.448</td>\n",
       "      <td>860459.0</td>\n",
       "      <td>2018-10-01 06:38:34.597</td>\n",
       "      <td>false</td>\n",
       "      <td>NA</td>\n",
       "      <td>2</td>\n",
       "      <td>f813965b48928e37648baf72fd3ecebb1f58a3dca3edcd...</td>\n",
       "    </tr>\n",
       "    <tr>\n",
       "      <th>3127624</th>\n",
       "      <td>5341322363734682123</td>\n",
       "      <td>2018-10-01 07:05:52.675</td>\n",
       "      <td>3110549.0</td>\n",
       "      <td>2018-10-01 00:13:13.541</td>\n",
       "      <td>false</td>\n",
       "      <td>US</td>\n",
       "      <td>11</td>\n",
       "      <td>170f82339dede7eec856c53ba8e26c993b05fa651829d9...</td>\n",
       "    </tr>\n",
       "    <tr>\n",
       "      <th>1704449</th>\n",
       "      <td>4413874159569895968</td>\n",
       "      <td>2018-10-01 07:05:54.753</td>\n",
       "      <td>0.0</td>\n",
       "      <td>2018-10-01 07:05:53.903</td>\n",
       "      <td>true</td>\n",
       "      <td>US</td>\n",
       "      <td>1</td>\n",
       "      <td>afd1e77cc27cc8636585211939dc1a4a9b3a6638f02670...</td>\n",
       "    </tr>\n",
       "    <tr>\n",
       "      <th>5381060</th>\n",
       "      <td>6914409681636034792</td>\n",
       "      <td>2018-10-01 07:06:01.037</td>\n",
       "      <td>0.0</td>\n",
       "      <td>2018-10-01 07:06:01.037</td>\n",
       "      <td>true</td>\n",
       "      <td>ZA</td>\n",
       "      <td>1</td>\n",
       "      <td>e225acf6449898c0915bf927698d0df7600dac3ac763b3...</td>\n",
       "    </tr>\n",
       "    <tr>\n",
       "      <th>2867389</th>\n",
       "      <td>5507648615178875998</td>\n",
       "      <td>2018-10-01 07:06:59.908</td>\n",
       "      <td>3002508.0</td>\n",
       "      <td>2018-10-01 02:26:04.840</td>\n",
       "      <td>false</td>\n",
       "      <td>US</td>\n",
       "      <td>3</td>\n",
       "      <td>14b28230e38053062a2a2cb9b8db138de99f4e847a29d3...</td>\n",
       "    </tr>\n",
       "    <tr>\n",
       "      <th>1729198</th>\n",
       "      <td>6625637724670635937</td>\n",
       "      <td>2018-10-01 07:07:09.264</td>\n",
       "      <td>2243709.0</td>\n",
       "      <td>2018-10-01 00:18:53.278</td>\n",
       "      <td>false</td>\n",
       "      <td>ZA</td>\n",
       "      <td>2</td>\n",
       "      <td>c2937985295afbbd83442ca095a316f96236771ac182e8...</td>\n",
       "    </tr>\n",
       "    <tr>\n",
       "      <th>3973741</th>\n",
       "      <td>7372099737280737103</td>\n",
       "      <td>2018-10-01 07:07:10.011</td>\n",
       "      <td>1010330.0</td>\n",
       "      <td>2018-10-01 06:49:07.163</td>\n",
       "      <td>false</td>\n",
       "      <td>IN</td>\n",
       "      <td>2</td>\n",
       "      <td>8a8e89d38c0698dfa69dccf0237746dcace3e704e35f94...</td>\n",
       "    </tr>\n",
       "    <tr>\n",
       "      <th>2646997</th>\n",
       "      <td>3881817003780984101</td>\n",
       "      <td>2018-10-01 07:07:37.317</td>\n",
       "      <td>0.0</td>\n",
       "      <td>2018-10-01 07:07:37.317</td>\n",
       "      <td>true</td>\n",
       "      <td>US</td>\n",
       "      <td>1</td>\n",
       "      <td>df640431c504c992d5288183dde59e45d589210ec9f34c...</td>\n",
       "    </tr>\n",
       "    <tr>\n",
       "      <th>4497069</th>\n",
       "      <td>6308932373725194679</td>\n",
       "      <td>2018-10-01 07:07:38.284</td>\n",
       "      <td>2826609.0</td>\n",
       "      <td>2018-10-01 03:29:50.390</td>\n",
       "      <td>false</td>\n",
       "      <td>IN</td>\n",
       "      <td>3</td>\n",
       "      <td>f759ecffc0b980693bbd911949d99de667814e2bf29f39...</td>\n",
       "    </tr>\n",
       "    <tr>\n",
       "      <th>4593501</th>\n",
       "      <td>2665362188374327907</td>\n",
       "      <td>2018-10-01 07:07:52.558</td>\n",
       "      <td>160988.0</td>\n",
       "      <td>2018-10-01 07:04:15.531</td>\n",
       "      <td>false</td>\n",
       "      <td>US</td>\n",
       "      <td>2</td>\n",
       "      <td>6920fe2cafa6a59de4f7c10accf742cd49616b40c223a6...</td>\n",
       "    </tr>\n",
       "    <tr>\n",
       "      <th>4734927</th>\n",
       "      <td>526053070100597711</td>\n",
       "      <td>2018-10-01 07:07:56.067</td>\n",
       "      <td>0.0</td>\n",
       "      <td>2018-10-01 07:07:56.067</td>\n",
       "      <td>true</td>\n",
       "      <td>US</td>\n",
       "      <td>1</td>\n",
       "      <td>404b39e99f63af06f337bde59f668654cb0d0e0f25ff62...</td>\n",
       "    </tr>\n",
       "    <tr>\n",
       "      <th>433745</th>\n",
       "      <td>4539409872952619787</td>\n",
       "      <td>2018-10-01 07:08:13.884</td>\n",
       "      <td>0.0</td>\n",
       "      <td>2018-10-01 07:08:13.884</td>\n",
       "      <td>true</td>\n",
       "      <td>MY</td>\n",
       "      <td>1</td>\n",
       "      <td>7c982453a697024275f2834d7f7540a1fef0e3c5378346...</td>\n",
       "    </tr>\n",
       "    <tr>\n",
       "      <th>4622301</th>\n",
       "      <td>2261836094457109167</td>\n",
       "      <td>2018-10-01 07:08:51.502</td>\n",
       "      <td>0.0</td>\n",
       "      <td>2018-10-01 07:08:51.502</td>\n",
       "      <td>true</td>\n",
       "      <td>ZA</td>\n",
       "      <td>1</td>\n",
       "      <td>0ecab7fe35d6aad029a04f3a346a642d29e1d7bbc14a40...</td>\n",
       "    </tr>\n",
       "    <tr>\n",
       "      <th>2386115</th>\n",
       "      <td>194728061894894679</td>\n",
       "      <td>2018-10-01 07:09:04.444</td>\n",
       "      <td>618452.0</td>\n",
       "      <td>2018-10-01 02:30:36.283</td>\n",
       "      <td>false</td>\n",
       "      <td>AU</td>\n",
       "      <td>2</td>\n",
       "      <td>1ff3bc3e23fa431824d03998a66fa1a130c72b302ff31f...</td>\n",
       "    </tr>\n",
       "  </tbody>\n",
       "</table>\n",
       "</div>"
      ],
      "text/plain": [
       "                  session_id         start_timestamp  \\\n",
       "3079316  4339488202460077611 2018-10-01 07:00:04.526   \n",
       "5760506  7012480646309837595 2018-10-01 07:00:08.476   \n",
       "860189   2920311224184894615 2018-10-01 07:01:02.101   \n",
       "2222180  8483277250870486701 2018-10-01 07:01:30.694   \n",
       "2300433  8114762104527844914 2018-10-01 07:01:57.770   \n",
       "5137385  2281734275777082249 2018-10-01 07:02:35.704   \n",
       "358267     39412282703486323 2018-10-01 07:02:44.241   \n",
       "4631720  4255960407856033328 2018-10-01 07:02:47.272   \n",
       "2300432  2873072320135565407 2018-10-01 07:02:49.772   \n",
       "2496512  6553551957396038058 2018-10-01 07:02:56.262   \n",
       "2820322  8746427477484969665 2018-10-01 07:03:05.227   \n",
       "2677128  4942066889681208697 2018-10-01 07:03:09.241   \n",
       "5895988  4373827773003635832 2018-10-01 07:03:13.794   \n",
       "3317374  2890721378219647232 2018-10-01 07:03:15.984   \n",
       "3041103  1133952179644382997 2018-10-01 07:03:20.634   \n",
       "4753692  1013431241513319893 2018-10-01 07:03:29.321   \n",
       "55865      69975644525022853 2018-10-01 07:03:31.445   \n",
       "2939318  7967726726265541583 2018-10-01 07:03:31.611   \n",
       "2571507  7998917458473083754 2018-10-01 07:03:39.506   \n",
       "6228018  4845776359550628795 2018-10-01 07:03:45.078   \n",
       "23669    7575139591610475133 2018-10-01 07:03:45.715   \n",
       "5564281  7216783865033306286 2018-10-01 07:04:01.201   \n",
       "4964444  2184439221375567535 2018-10-01 07:04:02.521   \n",
       "1270740  3639394220684530810 2018-10-01 07:04:04.993   \n",
       "3336500  8566226158571145391 2018-10-01 07:04:09.097   \n",
       "4593497  3517356483592686973 2018-10-01 07:04:15.531   \n",
       "5909437  1382416533141744301 2018-10-01 07:04:18.302   \n",
       "5215292  2077203429858049464 2018-10-01 07:04:19.217   \n",
       "4753689  4044701645050921634 2018-10-01 07:04:19.259   \n",
       "5693132  8861607613711017429 2018-10-01 07:04:23.711   \n",
       "3074280   594416914013239645 2018-10-01 07:04:27.547   \n",
       "3536192   491841686711187106 2018-10-01 07:04:36.854   \n",
       "4630200  8360450364356151829 2018-10-01 07:04:42.411   \n",
       "179129   2886951411316725967 2018-10-01 07:04:58.083   \n",
       "5738004  4010860028906517259 2018-10-01 07:05:00.375   \n",
       "2772746  8443613081870623665 2018-10-01 07:05:18.402   \n",
       "3455984   808838546040485441 2018-10-01 07:05:43.448   \n",
       "3127624  5341322363734682123 2018-10-01 07:05:52.675   \n",
       "1704449  4413874159569895968 2018-10-01 07:05:54.753   \n",
       "5381060  6914409681636034792 2018-10-01 07:06:01.037   \n",
       "2867389  5507648615178875998 2018-10-01 07:06:59.908   \n",
       "1729198  6625637724670635937 2018-10-01 07:07:09.264   \n",
       "3973741  7372099737280737103 2018-10-01 07:07:10.011   \n",
       "2646997  3881817003780984101 2018-10-01 07:07:37.317   \n",
       "4497069  6308932373725194679 2018-10-01 07:07:38.284   \n",
       "4593501  2665362188374327907 2018-10-01 07:07:52.558   \n",
       "4734927   526053070100597711 2018-10-01 07:07:56.067   \n",
       "433745   4539409872952619787 2018-10-01 07:08:13.884   \n",
       "4622301  2261836094457109167 2018-10-01 07:08:51.502   \n",
       "2386115   194728061894894679 2018-10-01 07:09:04.444   \n",
       "\n",
       "         previous_sessions_duration  user_created_timestamp  \\\n",
       "3079316                         0.0 2018-10-01 07:00:04.526   \n",
       "5760506                         0.0 2018-10-01 07:00:08.476   \n",
       "860189                    1000637.0 2018-10-01 06:44:08.468   \n",
       "2222180                         0.0 2018-10-01 07:01:30.694   \n",
       "2300433                   2415582.0 2018-10-01 06:18:23.919   \n",
       "5137385                   2962951.0 2018-10-01 05:35:59.965   \n",
       "358267                    5168102.0 2018-10-01 02:43:32.894   \n",
       "4631720                         0.0 2018-10-01 06:51:24.929   \n",
       "2300432                   2450578.0 2018-10-01 06:18:23.919   \n",
       "2496512                         0.0 2018-10-01 07:02:56.262   \n",
       "2820322                         0.0 2018-10-01 07:03:05.227   \n",
       "2677128                   1978393.0 2018-10-01 04:18:16.241   \n",
       "5895988                         0.0 2018-10-01 07:02:59.750   \n",
       "3317374                   2168144.0 2018-10-01 05:45:43.563   \n",
       "3041103                    637709.0 2018-10-01 06:50:40.877   \n",
       "4753692                   1814834.0 2018-10-01 02:38:28.955   \n",
       "55865                           0.0 2018-10-01 07:03:31.445   \n",
       "2939318                         0.0 2018-10-01 07:03:31.611   \n",
       "2571507                   2672004.0 2018-10-01 02:37:47.224   \n",
       "6228018                     58421.0 2018-10-01 06:27:01.095   \n",
       "23669                      575885.0 2018-10-01 05:11:11.740   \n",
       "5564281                   3422528.0 2018-10-01 01:47:41.438   \n",
       "4964444                   2469158.0 2018-10-01 06:21:06.094   \n",
       "1270740                         0.0 2018-10-01 07:04:04.993   \n",
       "3336500                         0.0 2018-10-01 07:04:09.097   \n",
       "4593497                         0.0 2018-10-01 07:04:15.531   \n",
       "5909437                   1586120.0 2018-10-01 05:19:26.674   \n",
       "5215292                         0.0 2018-10-01 07:03:36.594   \n",
       "4753689                   1858037.0 2018-10-01 02:38:28.955   \n",
       "5693132                         0.0 2018-10-01 07:04:20.622   \n",
       "3074280                    261742.0 2018-10-01 04:42:04.927   \n",
       "3536192                         0.0 2018-10-01 07:04:36.854   \n",
       "4630200                   1534455.0 2018-10-01 05:57:50.226   \n",
       "179129                          0.0 2018-10-01 07:04:07.736   \n",
       "5738004                    790760.0 2018-10-01 01:30:44.108   \n",
       "2772746                         0.0 2018-10-01 07:05:18.402   \n",
       "3455984                    860459.0 2018-10-01 06:38:34.597   \n",
       "3127624                   3110549.0 2018-10-01 00:13:13.541   \n",
       "1704449                         0.0 2018-10-01 07:05:53.903   \n",
       "5381060                         0.0 2018-10-01 07:06:01.037   \n",
       "2867389                   3002508.0 2018-10-01 02:26:04.840   \n",
       "1729198                   2243709.0 2018-10-01 00:18:53.278   \n",
       "3973741                   1010330.0 2018-10-01 06:49:07.163   \n",
       "2646997                         0.0 2018-10-01 07:07:37.317   \n",
       "4497069                   2826609.0 2018-10-01 03:29:50.390   \n",
       "4593501                    160988.0 2018-10-01 07:04:15.531   \n",
       "4734927                         0.0 2018-10-01 07:07:56.067   \n",
       "433745                          0.0 2018-10-01 07:08:13.884   \n",
       "4622301                         0.0 2018-10-01 07:08:51.502   \n",
       "2386115                    618452.0 2018-10-01 02:30:36.283   \n",
       "\n",
       "        is_user_first_session country session_index  \\\n",
       "3079316                  true      AU             1   \n",
       "5760506                  true      NZ             1   \n",
       "860189                  false      IN             2   \n",
       "2222180                  true      US             1   \n",
       "2300433                 false      US             2   \n",
       "5137385                 false      US             2   \n",
       "358267                  false      PH             5   \n",
       "4631720                  true      AU             1   \n",
       "2300432                 false      US             3   \n",
       "2496512                  true      ZA             1   \n",
       "2820322                  true      SR             1   \n",
       "2677128                 false      MY             4   \n",
       "5895988                  true      HR             1   \n",
       "3317374                 false      AU             2   \n",
       "3041103                 false      PH             2   \n",
       "4753692                 false      US             4   \n",
       "55865                    true      IN             1   \n",
       "2939318                  true      AU             1   \n",
       "2571507                 false      HK             3   \n",
       "6228018                 false      ID             2   \n",
       "23669                   false      IN             2   \n",
       "5564281                 false      US             5   \n",
       "4964444                 false      US             2   \n",
       "1270740                  true      US             1   \n",
       "3336500                  true      CA             1   \n",
       "4593497                  true      US             1   \n",
       "5909437                 false      US             2   \n",
       "5215292                  true      NG             1   \n",
       "4753689                 false      US             5   \n",
       "5693132                  true      ZA             1   \n",
       "3074280                 false      AU             2   \n",
       "3536192                  true      US             1   \n",
       "4630200                 false      SG             2   \n",
       "179129                   true      PH             1   \n",
       "5738004                 false      NZ             9   \n",
       "2772746                  true      US             1   \n",
       "3455984                 false      NA             2   \n",
       "3127624                 false      US            11   \n",
       "1704449                  true      US             1   \n",
       "5381060                  true      ZA             1   \n",
       "2867389                 false      US             3   \n",
       "1729198                 false      ZA             2   \n",
       "3973741                 false      IN             2   \n",
       "2646997                  true      US             1   \n",
       "4497069                 false      IN             3   \n",
       "4593501                 false      US             2   \n",
       "4734927                  true      US             1   \n",
       "433745                   true      MY             1   \n",
       "4622301                  true      ZA             1   \n",
       "2386115                 false      AU             2   \n",
       "\n",
       "                                              user_id_hash  \n",
       "3079316  c9bad12f865142f1b3938c9ab8a3003a7882136a2b4a12...  \n",
       "5760506  285863e47df26bf47664c93d45c35ee3b9cfc8e253da23...  \n",
       "860189   475f8f20576637055c5331513dda4db1d889f5e951c8e5...  \n",
       "2222180  4bc7b52d56b24d258ba1746994492f354fd4b17fcaae81...  \n",
       "2300433  82349b0d1a80b42e59519068ded46178778084b9602b9c...  \n",
       "5137385  f563dc33ecdeb24f3e38f3aeb50fc317e7316aab431d9f...  \n",
       "358267   ffd82ac7dd78dfb8634721a5cc66cd7e76e640c1662392...  \n",
       "4631720  3b9d68998ff3dd0f2e4bb4955b40839ff55d9c4f0f6b46...  \n",
       "2300432  82349b0d1a80b42e59519068ded46178778084b9602b9c...  \n",
       "2496512  f43feee8a559001f003abd31b61dc2fb2c526dc6c82d83...  \n",
       "2820322  5a8605393393d172152323d876fc8e8140ea6f06d57c56...  \n",
       "2677128  350effb41d20998f31ba342c4c6c6bd8c7e7a834e87bcd...  \n",
       "5895988  768bd874f6d1b1018c1cb087410cdd1989395228c8749d...  \n",
       "3317374  df97fe7c59fcb8ae3fa68746132c360df8d7b209310bdd...  \n",
       "3041103  ce7d2716238bfe1231fbf64e8a24110b0a83890dc76814...  \n",
       "4753692  c1c3ee2fbdabbe1255582339af36270b9724e093dc7bd4...  \n",
       "55865    d06fa683e6864327aa6ef4cbe782e9cf028858d8a1809a...  \n",
       "2939318  5ef53802bddca2fff5fbb325ab17a6ac796ef3e2a73048...  \n",
       "2571507  b325c882b931fb2edf5a7797ac7f746026f6317e73f33c...  \n",
       "6228018  694b3032c73786998799f157cda3183149f1217e68ac8e...  \n",
       "23669    7f5863727a204828af82bf28ce3be3caaf1d323e07703a...  \n",
       "5564281  55aa4c52e8cb2a549f71005e50cafa9a8f8ad2f1a0689b...  \n",
       "4964444  68c9dfee0fbbc7ff0034ef55774d3e5cd3a85cf0a3530a...  \n",
       "1270740  38600f78afcf1f649830fb75731ae9cda450f6e287b378...  \n",
       "3336500  91bea3ee2db221019a65a6b70fc00cd9352152f4d94035...  \n",
       "4593497  6920fe2cafa6a59de4f7c10accf742cd49616b40c223a6...  \n",
       "5909437  d039e35e3d1e90fa0d9dcbd841138844402c3a41a96a77...  \n",
       "5215292  fd07bf1c1ce13622183bfefe73baf50aa63dafc5eb7d96...  \n",
       "4753689  c1c3ee2fbdabbe1255582339af36270b9724e093dc7bd4...  \n",
       "5693132  c06cf89b636ba5d92c18881fdc877efbbd1f8ff329c789...  \n",
       "3074280  0e35b83bb296206991724334af825aaff215254dae8989...  \n",
       "3536192  ce51e11a64b9eea82e049c893899e4e0c28ccfdad11dd3...  \n",
       "4630200  9af38f8dd98265f832f30093c15e7964da503acd5bcd43...  \n",
       "179129   5494e389cbd051980108d50d19ddd78a2e7530d0e1d36c...  \n",
       "5738004  2393384ef4af8d721d7e29f42ee16b6534186698f2d237...  \n",
       "2772746  f5653541a17a99afe89315ea4388ea11981901d96b8b21...  \n",
       "3455984  f813965b48928e37648baf72fd3ecebb1f58a3dca3edcd...  \n",
       "3127624  170f82339dede7eec856c53ba8e26c993b05fa651829d9...  \n",
       "1704449  afd1e77cc27cc8636585211939dc1a4a9b3a6638f02670...  \n",
       "5381060  e225acf6449898c0915bf927698d0df7600dac3ac763b3...  \n",
       "2867389  14b28230e38053062a2a2cb9b8db138de99f4e847a29d3...  \n",
       "1729198  c2937985295afbbd83442ca095a316f96236771ac182e8...  \n",
       "3973741  8a8e89d38c0698dfa69dccf0237746dcace3e704e35f94...  \n",
       "2646997  df640431c504c992d5288183dde59e45d589210ec9f34c...  \n",
       "4497069  f759ecffc0b980693bbd911949d99de667814e2bf29f39...  \n",
       "4593501  6920fe2cafa6a59de4f7c10accf742cd49616b40c223a6...  \n",
       "4734927  404b39e99f63af06f337bde59f668654cb0d0e0f25ff62...  \n",
       "433745   7c982453a697024275f2834d7f7540a1fef0e3c5378346...  \n",
       "4622301  0ecab7fe35d6aad029a04f3a346a642d29e1d7bbc14a40...  \n",
       "2386115  1ff3bc3e23fa431824d03998a66fa1a130c72b302ff31f...  "
      ]
     },
     "execution_count": 141,
     "metadata": {},
     "output_type": "execute_result"
    }
   ],
   "source": [
    "sessions_df.head(50)"
   ]
  },
  {
   "cell_type": "code",
   "execution_count": 143,
   "metadata": {},
   "outputs": [],
   "source": [
    "sessions_df.to_csv(\"clean_sessions.csv\")"
   ]
  },
  {
   "cell_type": "markdown",
   "metadata": {},
   "source": [
    "# Read Events"
   ]
  },
  {
   "cell_type": "code",
   "execution_count": 11,
   "metadata": {},
   "outputs": [],
   "source": [
    "bucket_name = 'ml2-group8' # Add your bucket name\n",
    "events = \"events.csv\"\n",
    "s3 = boto3.resource('s3')\n",
    "bucket = s3.Bucket(bucket_name) \n",
    "events_obj = bucket.Object(key=events) # S3 uses key-value structure where key is your file name\n",
    "events_file = events_obj.get()[\"Body\"].read().decode('utf-8') # Read the Body which is the contents of the file."
   ]
  },
  {
   "cell_type": "code",
   "execution_count": 13,
   "metadata": {},
   "outputs": [],
   "source": [
    "event_str = StringIO(events_file)"
   ]
  },
  {
   "cell_type": "code",
   "execution_count": 15,
   "metadata": {},
   "outputs": [],
   "source": [
    "events_df = pd.read_csv(event_str, sep=\",\", error_bad_lines=False)"
   ]
  },
  {
   "cell_type": "code",
   "execution_count": 18,
   "metadata": {},
   "outputs": [],
   "source": [
    "events_df = events_df.drop(columns=[\"event_value\"])"
   ]
  },
  {
   "cell_type": "code",
   "execution_count": 21,
   "metadata": {},
   "outputs": [],
   "source": [
    "events_df.event_timestamp = pd.to_datetime(events_df.event_timestamp, unit='ms')"
   ]
  },
  {
   "cell_type": "code",
   "execution_count": 31,
   "metadata": {},
   "outputs": [],
   "source": [
    "purchases = [1 if x == \"8\" else 0 for x in events_df.event]"
   ]
  },
  {
   "cell_type": "code",
   "execution_count": 33,
   "metadata": {},
   "outputs": [],
   "source": [
    "events_df[\"purchases\"] = purchases"
   ]
  },
  {
   "cell_type": "code",
   "execution_count": 37,
   "metadata": {},
   "outputs": [
    {
     "data": {
      "text/html": [
       "<div>\n",
       "<style scoped>\n",
       "    .dataframe tbody tr th:only-of-type {\n",
       "        vertical-align: middle;\n",
       "    }\n",
       "\n",
       "    .dataframe tbody tr th {\n",
       "        vertical-align: top;\n",
       "    }\n",
       "\n",
       "    .dataframe thead th {\n",
       "        text-align: right;\n",
       "    }\n",
       "</style>\n",
       "<table border=\"1\" class=\"dataframe\">\n",
       "  <thead>\n",
       "    <tr style=\"text-align: right;\">\n",
       "      <th></th>\n",
       "      <th>app_id</th>\n",
       "      <th>session_id</th>\n",
       "      <th>event</th>\n",
       "      <th>event_timestamp</th>\n",
       "      <th>user_id_hash</th>\n",
       "      <th>purchases</th>\n",
       "    </tr>\n",
       "  </thead>\n",
       "  <tbody>\n",
       "    <tr>\n",
       "      <th>0</th>\n",
       "      <td>4724682771660800</td>\n",
       "      <td>5558845121177764917</td>\n",
       "      <td>45</td>\n",
       "      <td>2018-11-14 17:09:57.132</td>\n",
       "      <td>9943447915df3a45fd6720a026af905b6da6b56a37701b...</td>\n",
       "      <td>0</td>\n",
       "    </tr>\n",
       "    <tr>\n",
       "      <th>1</th>\n",
       "      <td>4724682771660800</td>\n",
       "      <td>5558845121177764917</td>\n",
       "      <td>45</td>\n",
       "      <td>2018-11-14 17:11:24.895</td>\n",
       "      <td>9943447915df3a45fd6720a026af905b6da6b56a37701b...</td>\n",
       "      <td>0</td>\n",
       "    </tr>\n",
       "    <tr>\n",
       "      <th>2</th>\n",
       "      <td>4724682771660800</td>\n",
       "      <td>7689508378645584666</td>\n",
       "      <td>.m5100869650219008</td>\n",
       "      <td>2018-11-02 02:06:50.372</td>\n",
       "      <td>9943447915df3a45fd6720a026af905b6da6b56a37701b...</td>\n",
       "      <td>0</td>\n",
       "    </tr>\n",
       "    <tr>\n",
       "      <th>3</th>\n",
       "      <td>4724682771660800</td>\n",
       "      <td>2201961907282901522</td>\n",
       "      <td>4</td>\n",
       "      <td>2018-12-02 01:11:31.129</td>\n",
       "      <td>9943447915df3a45fd6720a026af905b6da6b56a37701b...</td>\n",
       "      <td>0</td>\n",
       "    </tr>\n",
       "    <tr>\n",
       "      <th>4</th>\n",
       "      <td>4724682771660800</td>\n",
       "      <td>2201961907282901522</td>\n",
       "      <td>6</td>\n",
       "      <td>2018-12-02 01:11:33.116</td>\n",
       "      <td>9943447915df3a45fd6720a026af905b6da6b56a37701b...</td>\n",
       "      <td>0</td>\n",
       "    </tr>\n",
       "  </tbody>\n",
       "</table>\n",
       "</div>"
      ],
      "text/plain": [
       "             app_id           session_id               event  \\\n",
       "0  4724682771660800  5558845121177764917                  45   \n",
       "1  4724682771660800  5558845121177764917                  45   \n",
       "2  4724682771660800  7689508378645584666  .m5100869650219008   \n",
       "3  4724682771660800  2201961907282901522                   4   \n",
       "4  4724682771660800  2201961907282901522                   6   \n",
       "\n",
       "          event_timestamp                                       user_id_hash  \\\n",
       "0 2018-11-14 17:09:57.132  9943447915df3a45fd6720a026af905b6da6b56a37701b...   \n",
       "1 2018-11-14 17:11:24.895  9943447915df3a45fd6720a026af905b6da6b56a37701b...   \n",
       "2 2018-11-02 02:06:50.372  9943447915df3a45fd6720a026af905b6da6b56a37701b...   \n",
       "3 2018-12-02 01:11:31.129  9943447915df3a45fd6720a026af905b6da6b56a37701b...   \n",
       "4 2018-12-02 01:11:33.116  9943447915df3a45fd6720a026af905b6da6b56a37701b...   \n",
       "\n",
       "   purchases  \n",
       "0          0  \n",
       "1          0  \n",
       "2          0  \n",
       "3          0  \n",
       "4          0  "
      ]
     },
     "execution_count": 37,
     "metadata": {},
     "output_type": "execute_result"
    }
   ],
   "source": [
    "events_df.head()"
   ]
  },
  {
   "cell_type": "code",
   "execution_count": 318,
   "metadata": {},
   "outputs": [],
   "source": [
    "events_df.to_csv(\"../clean_events.csv\")"
   ]
  },
  {
   "cell_type": "code",
   "execution_count": 40,
   "metadata": {},
   "outputs": [],
   "source": [
    "dec_events = events_df[events_df.event_timestamp >= \"2018-12-01 00:00:00.000\"].sort_values(by=\"event_timestamp\")"
   ]
  },
  {
   "cell_type": "code",
   "execution_count": 43,
   "metadata": {},
   "outputs": [],
   "source": [
    "week1 = dec_events[dec_events.event_timestamp < \"2018-12-08 00:00:00.000\"]\n",
    "week2 = dec_events[dec_events.event_timestamp < \"2018-12-15 00:00:00.000\"]"
   ]
  },
  {
   "cell_type": "code",
   "execution_count": 66,
   "metadata": {},
   "outputs": [],
   "source": [
    "week1_buyers = week1[[\"user_id_hash\", \"purchases\"]].groupby(\"user_id_hash\").sum()\n",
    "week1_buyers[\"week1_purchaser\"] = [1 if x > 0 else 0 for x in week1_buyers.purchases]\n",
    "week1_buyers = week1_buyers.drop(columns=[\"purchases\"])"
   ]
  },
  {
   "cell_type": "code",
   "execution_count": 67,
   "metadata": {},
   "outputs": [],
   "source": [
    "week2_buyers = week2[[\"user_id_hash\", \"purchases\"]].groupby(\"user_id_hash\").sum()\n",
    "week2_buyers[\"week2_purchaser\"] = [1 if x > 0 else 0 for x in week2_buyers.purchases]\n",
    "week2_buyers = week2_buyers.drop(columns=[\"purchases\"])"
   ]
  },
  {
   "cell_type": "code",
   "execution_count": 68,
   "metadata": {},
   "outputs": [],
   "source": [
    "dec_df = week1_buyers.join(week2_buyers, on=\"user_id_hash\", how=\"outer\")"
   ]
  },
  {
   "cell_type": "code",
   "execution_count": 69,
   "metadata": {},
   "outputs": [
    {
     "data": {
      "text/html": [
       "<div>\n",
       "<style scoped>\n",
       "    .dataframe tbody tr th:only-of-type {\n",
       "        vertical-align: middle;\n",
       "    }\n",
       "\n",
       "    .dataframe tbody tr th {\n",
       "        vertical-align: top;\n",
       "    }\n",
       "\n",
       "    .dataframe thead th {\n",
       "        text-align: right;\n",
       "    }\n",
       "</style>\n",
       "<table border=\"1\" class=\"dataframe\">\n",
       "  <thead>\n",
       "    <tr style=\"text-align: right;\">\n",
       "      <th></th>\n",
       "      <th>week1_purchaser</th>\n",
       "      <th>week2_purchaser</th>\n",
       "    </tr>\n",
       "    <tr>\n",
       "      <th>user_id_hash</th>\n",
       "      <th></th>\n",
       "      <th></th>\n",
       "    </tr>\n",
       "  </thead>\n",
       "  <tbody>\n",
       "    <tr>\n",
       "      <th>000081a7d841b0f953bdba6c185fd5cc335fd6015a30c3035fbf5496aab9be7c</th>\n",
       "      <td>0.0</td>\n",
       "      <td>0</td>\n",
       "    </tr>\n",
       "    <tr>\n",
       "      <th>0000bc4e8bfc829d327fa69bdc426dd8a789c52550ed87611492c62e2e6a9540</th>\n",
       "      <td>0.0</td>\n",
       "      <td>0</td>\n",
       "    </tr>\n",
       "    <tr>\n",
       "      <th>00020102f66f89759868c843ae9fe634870f132f9e3d7990ca9c794a564477be</th>\n",
       "      <td>0.0</td>\n",
       "      <td>0</td>\n",
       "    </tr>\n",
       "    <tr>\n",
       "      <th>0002e987a7c0f2c23b8ef2230f3934c77ed94a15778d2cde413da9e4df572df7</th>\n",
       "      <td>0.0</td>\n",
       "      <td>0</td>\n",
       "    </tr>\n",
       "    <tr>\n",
       "      <th>0004254c12f732e958e157c5e507347944e7ae2b0d9abcc8b4b1b743c87454cc</th>\n",
       "      <td>0.0</td>\n",
       "      <td>0</td>\n",
       "    </tr>\n",
       "  </tbody>\n",
       "</table>\n",
       "</div>"
      ],
      "text/plain": [
       "                                                    week1_purchaser  \\\n",
       "user_id_hash                                                          \n",
       "000081a7d841b0f953bdba6c185fd5cc335fd6015a30c30...              0.0   \n",
       "0000bc4e8bfc829d327fa69bdc426dd8a789c52550ed876...              0.0   \n",
       "00020102f66f89759868c843ae9fe634870f132f9e3d799...              0.0   \n",
       "0002e987a7c0f2c23b8ef2230f3934c77ed94a15778d2cd...              0.0   \n",
       "0004254c12f732e958e157c5e507347944e7ae2b0d9abcc...              0.0   \n",
       "\n",
       "                                                    week2_purchaser  \n",
       "user_id_hash                                                         \n",
       "000081a7d841b0f953bdba6c185fd5cc335fd6015a30c30...                0  \n",
       "0000bc4e8bfc829d327fa69bdc426dd8a789c52550ed876...                0  \n",
       "00020102f66f89759868c843ae9fe634870f132f9e3d799...                0  \n",
       "0002e987a7c0f2c23b8ef2230f3934c77ed94a15778d2cd...                0  \n",
       "0004254c12f732e958e157c5e507347944e7ae2b0d9abcc...                0  "
      ]
     },
     "execution_count": 69,
     "metadata": {},
     "output_type": "execute_result"
    }
   ],
   "source": [
    "dec_df.head()"
   ]
  },
  {
   "cell_type": "code",
   "execution_count": 153,
   "metadata": {},
   "outputs": [
    {
     "data": {
      "text/plain": [
       "89291"
      ]
     },
     "execution_count": 153,
     "metadata": {},
     "output_type": "execute_result"
    }
   ],
   "source": [
    "len(dec_df)"
   ]
  },
  {
   "cell_type": "code",
   "execution_count": 71,
   "metadata": {},
   "outputs": [],
   "source": [
    "train_df = sessions_df[sessions_df.start_timestamp < \"2018-12-01 00:00:00.000\"]"
   ]
  },
  {
   "cell_type": "code",
   "execution_count": 88,
   "metadata": {},
   "outputs": [
    {
     "data": {
      "text/html": [
       "<div>\n",
       "<style scoped>\n",
       "    .dataframe tbody tr th:only-of-type {\n",
       "        vertical-align: middle;\n",
       "    }\n",
       "\n",
       "    .dataframe tbody tr th {\n",
       "        vertical-align: top;\n",
       "    }\n",
       "\n",
       "    .dataframe thead th {\n",
       "        text-align: right;\n",
       "    }\n",
       "</style>\n",
       "<table border=\"1\" class=\"dataframe\">\n",
       "  <thead>\n",
       "    <tr style=\"text-align: right;\">\n",
       "      <th></th>\n",
       "      <th>session_id</th>\n",
       "      <th>start_timestamp</th>\n",
       "      <th>previous_sessions_duration</th>\n",
       "      <th>user_created_timestamp</th>\n",
       "      <th>is_user_first_session</th>\n",
       "      <th>country</th>\n",
       "      <th>session_index</th>\n",
       "      <th>user_id_hash</th>\n",
       "    </tr>\n",
       "  </thead>\n",
       "  <tbody>\n",
       "    <tr>\n",
       "      <th>0</th>\n",
       "      <td>4339488202460077611</td>\n",
       "      <td>2018-10-01 07:00:04.526</td>\n",
       "      <td>0.0</td>\n",
       "      <td>2018-10-01 07:00:04.526</td>\n",
       "      <td>True</td>\n",
       "      <td>AU</td>\n",
       "      <td>1</td>\n",
       "      <td>c9bad12f865142f1b3938c9ab8a3003a7882136a2b4a12...</td>\n",
       "    </tr>\n",
       "    <tr>\n",
       "      <th>1</th>\n",
       "      <td>7012480646309837595</td>\n",
       "      <td>2018-10-01 07:00:08.476</td>\n",
       "      <td>0.0</td>\n",
       "      <td>2018-10-01 07:00:08.476</td>\n",
       "      <td>True</td>\n",
       "      <td>NZ</td>\n",
       "      <td>1</td>\n",
       "      <td>285863e47df26bf47664c93d45c35ee3b9cfc8e253da23...</td>\n",
       "    </tr>\n",
       "    <tr>\n",
       "      <th>2</th>\n",
       "      <td>2920311224184894615</td>\n",
       "      <td>2018-10-01 07:01:02.101</td>\n",
       "      <td>1000637.0</td>\n",
       "      <td>2018-10-01 06:44:08.468</td>\n",
       "      <td>False</td>\n",
       "      <td>IN</td>\n",
       "      <td>2</td>\n",
       "      <td>475f8f20576637055c5331513dda4db1d889f5e951c8e5...</td>\n",
       "    </tr>\n",
       "    <tr>\n",
       "      <th>3</th>\n",
       "      <td>8483277250870486701</td>\n",
       "      <td>2018-10-01 07:01:30.694</td>\n",
       "      <td>0.0</td>\n",
       "      <td>2018-10-01 07:01:30.694</td>\n",
       "      <td>True</td>\n",
       "      <td>US</td>\n",
       "      <td>1</td>\n",
       "      <td>4bc7b52d56b24d258ba1746994492f354fd4b17fcaae81...</td>\n",
       "    </tr>\n",
       "    <tr>\n",
       "      <th>4</th>\n",
       "      <td>8114762104527844914</td>\n",
       "      <td>2018-10-01 07:01:57.770</td>\n",
       "      <td>2415582.0</td>\n",
       "      <td>2018-10-01 06:18:23.919</td>\n",
       "      <td>False</td>\n",
       "      <td>US</td>\n",
       "      <td>2</td>\n",
       "      <td>82349b0d1a80b42e59519068ded46178778084b9602b9c...</td>\n",
       "    </tr>\n",
       "  </tbody>\n",
       "</table>\n",
       "</div>"
      ],
      "text/plain": [
       "            session_id          start_timestamp  previous_sessions_duration  \\\n",
       "0  4339488202460077611  2018-10-01 07:00:04.526                         0.0   \n",
       "1  7012480646309837595  2018-10-01 07:00:08.476                         0.0   \n",
       "2  2920311224184894615  2018-10-01 07:01:02.101                   1000637.0   \n",
       "3  8483277250870486701  2018-10-01 07:01:30.694                         0.0   \n",
       "4  8114762104527844914  2018-10-01 07:01:57.770                   2415582.0   \n",
       "\n",
       "    user_created_timestamp  is_user_first_session country  session_index  \\\n",
       "0  2018-10-01 07:00:04.526                   True      AU              1   \n",
       "1  2018-10-01 07:00:08.476                   True      NZ              1   \n",
       "2  2018-10-01 06:44:08.468                  False      IN              2   \n",
       "3  2018-10-01 07:01:30.694                   True      US              1   \n",
       "4  2018-10-01 06:18:23.919                  False      US              2   \n",
       "\n",
       "                                        user_id_hash  \n",
       "0  c9bad12f865142f1b3938c9ab8a3003a7882136a2b4a12...  \n",
       "1  285863e47df26bf47664c93d45c35ee3b9cfc8e253da23...  \n",
       "2  475f8f20576637055c5331513dda4db1d889f5e951c8e5...  \n",
       "3  4bc7b52d56b24d258ba1746994492f354fd4b17fcaae81...  \n",
       "4  82349b0d1a80b42e59519068ded46178778084b9602b9c...  "
      ]
     },
     "execution_count": 88,
     "metadata": {},
     "output_type": "execute_result"
    }
   ],
   "source": [
    "train_df.head()"
   ]
  },
  {
   "cell_type": "code",
   "execution_count": 89,
   "metadata": {},
   "outputs": [],
   "source": [
    "unique_users = pd.DataFrame(train_df[\"user_id_hash\"].unique(), columns=[\"user_id_hash\"])"
   ]
  },
  {
   "cell_type": "code",
   "execution_count": 91,
   "metadata": {},
   "outputs": [],
   "source": [
    "session_counts = train_df[[\"user_id_hash\", \"session_index\"]].groupby(\"user_id_hash\").max()"
   ]
  },
  {
   "cell_type": "code",
   "execution_count": 92,
   "metadata": {},
   "outputs": [],
   "source": [
    "unique_users = unique_users.join(session_counts, on=\"user_id_hash\", how=\"outer\")"
   ]
  },
  {
   "cell_type": "code",
   "execution_count": 140,
   "metadata": {},
   "outputs": [],
   "source": [
    "duration_sum = train_df[[\"user_id_hash\", \"previous_sessions_duration\"]].groupby(\"user_id_hash\").sum()"
   ]
  },
  {
   "cell_type": "code",
   "execution_count": 142,
   "metadata": {},
   "outputs": [],
   "source": [
    "session_max = train_df[[\"user_id_hash\", \"session_index\"]].groupby(\"user_id_hash\").max()"
   ]
  },
  {
   "cell_type": "code",
   "execution_count": 145,
   "metadata": {},
   "outputs": [],
   "source": [
    "dur_ses = duration_sum.join(session_max, on=\"user_id_hash\", how=\"outer\")"
   ]
  },
  {
   "cell_type": "code",
   "execution_count": 147,
   "metadata": {},
   "outputs": [],
   "source": [
    "dur_ses[\"duration_session_ratio\"] = dur_ses.previous_sessions_duration / dur_ses.session_index"
   ]
  },
  {
   "cell_type": "code",
   "execution_count": 149,
   "metadata": {},
   "outputs": [],
   "source": [
    "dur_ses = dur_ses.drop(columns=[\"previous_sessions_duration\", \"session_index\"])"
   ]
  },
  {
   "cell_type": "code",
   "execution_count": 151,
   "metadata": {},
   "outputs": [],
   "source": [
    "unique_users = unique_users.join(dur_ses, on=\"user_id_hash\", how=\"outer\")"
   ]
  },
  {
   "cell_type": "code",
   "execution_count": 152,
   "metadata": {},
   "outputs": [
    {
     "data": {
      "text/html": [
       "<div>\n",
       "<style scoped>\n",
       "    .dataframe tbody tr th:only-of-type {\n",
       "        vertical-align: middle;\n",
       "    }\n",
       "\n",
       "    .dataframe tbody tr th {\n",
       "        vertical-align: top;\n",
       "    }\n",
       "\n",
       "    .dataframe thead th {\n",
       "        text-align: right;\n",
       "    }\n",
       "</style>\n",
       "<table border=\"1\" class=\"dataframe\">\n",
       "  <thead>\n",
       "    <tr style=\"text-align: right;\">\n",
       "      <th></th>\n",
       "      <th>user_id_hash</th>\n",
       "      <th>session_index</th>\n",
       "      <th>duration_session_ratio</th>\n",
       "    </tr>\n",
       "  </thead>\n",
       "  <tbody>\n",
       "    <tr>\n",
       "      <th>0</th>\n",
       "      <td>c9bad12f865142f1b3938c9ab8a3003a7882136a2b4a12...</td>\n",
       "      <td>32</td>\n",
       "      <td>1.712776e+07</td>\n",
       "    </tr>\n",
       "    <tr>\n",
       "      <th>1</th>\n",
       "      <td>285863e47df26bf47664c93d45c35ee3b9cfc8e253da23...</td>\n",
       "      <td>1</td>\n",
       "      <td>0.000000e+00</td>\n",
       "    </tr>\n",
       "    <tr>\n",
       "      <th>2</th>\n",
       "      <td>475f8f20576637055c5331513dda4db1d889f5e951c8e5...</td>\n",
       "      <td>78</td>\n",
       "      <td>3.262055e+07</td>\n",
       "    </tr>\n",
       "    <tr>\n",
       "      <th>3</th>\n",
       "      <td>4bc7b52d56b24d258ba1746994492f354fd4b17fcaae81...</td>\n",
       "      <td>1</td>\n",
       "      <td>0.000000e+00</td>\n",
       "    </tr>\n",
       "    <tr>\n",
       "      <th>4</th>\n",
       "      <td>82349b0d1a80b42e59519068ded46178778084b9602b9c...</td>\n",
       "      <td>3</td>\n",
       "      <td>1.622053e+06</td>\n",
       "    </tr>\n",
       "  </tbody>\n",
       "</table>\n",
       "</div>"
      ],
      "text/plain": [
       "                                        user_id_hash  session_index  \\\n",
       "0  c9bad12f865142f1b3938c9ab8a3003a7882136a2b4a12...             32   \n",
       "1  285863e47df26bf47664c93d45c35ee3b9cfc8e253da23...              1   \n",
       "2  475f8f20576637055c5331513dda4db1d889f5e951c8e5...             78   \n",
       "3  4bc7b52d56b24d258ba1746994492f354fd4b17fcaae81...              1   \n",
       "4  82349b0d1a80b42e59519068ded46178778084b9602b9c...              3   \n",
       "\n",
       "   duration_session_ratio  \n",
       "0            1.712776e+07  \n",
       "1            0.000000e+00  \n",
       "2            3.262055e+07  \n",
       "3            0.000000e+00  \n",
       "4            1.622053e+06  "
      ]
     },
     "execution_count": 152,
     "metadata": {},
     "output_type": "execute_result"
    }
   ],
   "source": [
    "unique_users.head()"
   ]
  },
  {
   "cell_type": "code",
   "execution_count": 155,
   "metadata": {},
   "outputs": [],
   "source": [
    "unique_users = unique_users.join(dec_df, on=\"user_id_hash\", how=\"left\").fillna(value=0)"
   ]
  },
  {
   "cell_type": "code",
   "execution_count": 157,
   "metadata": {},
   "outputs": [
    {
     "data": {
      "text/html": [
       "<div>\n",
       "<style scoped>\n",
       "    .dataframe tbody tr th:only-of-type {\n",
       "        vertical-align: middle;\n",
       "    }\n",
       "\n",
       "    .dataframe tbody tr th {\n",
       "        vertical-align: top;\n",
       "    }\n",
       "\n",
       "    .dataframe thead th {\n",
       "        text-align: right;\n",
       "    }\n",
       "</style>\n",
       "<table border=\"1\" class=\"dataframe\">\n",
       "  <thead>\n",
       "    <tr style=\"text-align: right;\">\n",
       "      <th></th>\n",
       "      <th>user_id_hash</th>\n",
       "      <th>session_index</th>\n",
       "      <th>duration_session_ratio</th>\n",
       "      <th>week1_purchaser</th>\n",
       "      <th>week2_purchaser</th>\n",
       "    </tr>\n",
       "  </thead>\n",
       "  <tbody>\n",
       "    <tr>\n",
       "      <th>0</th>\n",
       "      <td>c9bad12f865142f1b3938c9ab8a3003a7882136a2b4a12...</td>\n",
       "      <td>32</td>\n",
       "      <td>1.712776e+07</td>\n",
       "      <td>0.0</td>\n",
       "      <td>0.0</td>\n",
       "    </tr>\n",
       "    <tr>\n",
       "      <th>1</th>\n",
       "      <td>285863e47df26bf47664c93d45c35ee3b9cfc8e253da23...</td>\n",
       "      <td>1</td>\n",
       "      <td>0.000000e+00</td>\n",
       "      <td>0.0</td>\n",
       "      <td>0.0</td>\n",
       "    </tr>\n",
       "    <tr>\n",
       "      <th>2</th>\n",
       "      <td>475f8f20576637055c5331513dda4db1d889f5e951c8e5...</td>\n",
       "      <td>78</td>\n",
       "      <td>3.262055e+07</td>\n",
       "      <td>0.0</td>\n",
       "      <td>0.0</td>\n",
       "    </tr>\n",
       "    <tr>\n",
       "      <th>3</th>\n",
       "      <td>4bc7b52d56b24d258ba1746994492f354fd4b17fcaae81...</td>\n",
       "      <td>1</td>\n",
       "      <td>0.000000e+00</td>\n",
       "      <td>0.0</td>\n",
       "      <td>0.0</td>\n",
       "    </tr>\n",
       "    <tr>\n",
       "      <th>4</th>\n",
       "      <td>82349b0d1a80b42e59519068ded46178778084b9602b9c...</td>\n",
       "      <td>3</td>\n",
       "      <td>1.622053e+06</td>\n",
       "      <td>0.0</td>\n",
       "      <td>0.0</td>\n",
       "    </tr>\n",
       "  </tbody>\n",
       "</table>\n",
       "</div>"
      ],
      "text/plain": [
       "                                        user_id_hash  session_index  \\\n",
       "0  c9bad12f865142f1b3938c9ab8a3003a7882136a2b4a12...             32   \n",
       "1  285863e47df26bf47664c93d45c35ee3b9cfc8e253da23...              1   \n",
       "2  475f8f20576637055c5331513dda4db1d889f5e951c8e5...             78   \n",
       "3  4bc7b52d56b24d258ba1746994492f354fd4b17fcaae81...              1   \n",
       "4  82349b0d1a80b42e59519068ded46178778084b9602b9c...              3   \n",
       "\n",
       "   duration_session_ratio  week1_purchaser  week2_purchaser  \n",
       "0            1.712776e+07              0.0              0.0  \n",
       "1            0.000000e+00              0.0              0.0  \n",
       "2            3.262055e+07              0.0              0.0  \n",
       "3            0.000000e+00              0.0              0.0  \n",
       "4            1.622053e+06              0.0              0.0  "
      ]
     },
     "execution_count": 157,
     "metadata": {},
     "output_type": "execute_result"
    }
   ],
   "source": [
    "unique_users.head()"
   ]
  },
  {
   "cell_type": "code",
   "execution_count": 158,
   "metadata": {},
   "outputs": [],
   "source": [
    "unique_users.to_csv(\"../train.csv\")"
   ]
  },
  {
   "cell_type": "code",
   "execution_count": 201,
   "metadata": {},
   "outputs": [],
   "source": [
    "from sklearn.preprocessing import LabelEncoder\n",
    "from sklearn.feature_extraction import FeatureHasher"
   ]
  },
  {
   "cell_type": "code",
   "execution_count": 161,
   "metadata": {},
   "outputs": [],
   "source": [
    "label_enc = LabelEncoder()"
   ]
  },
  {
   "cell_type": "code",
   "execution_count": 189,
   "metadata": {},
   "outputs": [],
   "source": [
    "unique_users[\"user_enc\"] = label_enc.fit_transform(unique_users.user_id_hash)"
   ]
  },
  {
   "cell_type": "code",
   "execution_count": 214,
   "metadata": {},
   "outputs": [],
   "source": [
    "hasher = FeatureHasher(input_type=\"string\", n_features=1)"
   ]
  },
  {
   "cell_type": "code",
   "execution_count": 215,
   "metadata": {},
   "outputs": [],
   "source": [
    "unique_users[\"hashed\"] = hasher.fit_transform(unique_users.user_id_hash)"
   ]
  },
  {
   "cell_type": "code",
   "execution_count": 216,
   "metadata": {},
   "outputs": [
    {
     "data": {
      "text/html": [
       "<div>\n",
       "<style scoped>\n",
       "    .dataframe tbody tr th:only-of-type {\n",
       "        vertical-align: middle;\n",
       "    }\n",
       "\n",
       "    .dataframe tbody tr th {\n",
       "        vertical-align: top;\n",
       "    }\n",
       "\n",
       "    .dataframe thead th {\n",
       "        text-align: right;\n",
       "    }\n",
       "</style>\n",
       "<table border=\"1\" class=\"dataframe\">\n",
       "  <thead>\n",
       "    <tr style=\"text-align: right;\">\n",
       "      <th></th>\n",
       "      <th>user_id_hash</th>\n",
       "      <th>session_index</th>\n",
       "      <th>duration_session_ratio</th>\n",
       "      <th>week1_purchaser</th>\n",
       "      <th>week2_purchaser</th>\n",
       "      <th>user_enc</th>\n",
       "      <th>hashed</th>\n",
       "    </tr>\n",
       "  </thead>\n",
       "  <tbody>\n",
       "    <tr>\n",
       "      <th>0</th>\n",
       "      <td>c9bad12f865142f1b3938c9ab8a3003a7882136a2b4a12...</td>\n",
       "      <td>32</td>\n",
       "      <td>1.712776e+07</td>\n",
       "      <td>0.0</td>\n",
       "      <td>0.0</td>\n",
       "      <td>487769</td>\n",
       "      <td>(0, 0)\\t4.0\\n  (1, 0)\\t22.0\\n  (2, 0)\\t22.0\\...</td>\n",
       "    </tr>\n",
       "    <tr>\n",
       "      <th>1</th>\n",
       "      <td>285863e47df26bf47664c93d45c35ee3b9cfc8e253da23...</td>\n",
       "      <td>1</td>\n",
       "      <td>0.000000e+00</td>\n",
       "      <td>0.0</td>\n",
       "      <td>0.0</td>\n",
       "      <td>97433</td>\n",
       "      <td>(0, 0)\\t4.0\\n  (1, 0)\\t22.0\\n  (2, 0)\\t22.0\\...</td>\n",
       "    </tr>\n",
       "    <tr>\n",
       "      <th>2</th>\n",
       "      <td>475f8f20576637055c5331513dda4db1d889f5e951c8e5...</td>\n",
       "      <td>78</td>\n",
       "      <td>3.262055e+07</td>\n",
       "      <td>0.0</td>\n",
       "      <td>0.0</td>\n",
       "      <td>172753</td>\n",
       "      <td>(0, 0)\\t4.0\\n  (1, 0)\\t22.0\\n  (2, 0)\\t22.0\\...</td>\n",
       "    </tr>\n",
       "    <tr>\n",
       "      <th>3</th>\n",
       "      <td>4bc7b52d56b24d258ba1746994492f354fd4b17fcaae81...</td>\n",
       "      <td>1</td>\n",
       "      <td>0.000000e+00</td>\n",
       "      <td>0.0</td>\n",
       "      <td>0.0</td>\n",
       "      <td>183435</td>\n",
       "      <td>(0, 0)\\t4.0\\n  (1, 0)\\t22.0\\n  (2, 0)\\t22.0\\...</td>\n",
       "    </tr>\n",
       "    <tr>\n",
       "      <th>4</th>\n",
       "      <td>82349b0d1a80b42e59519068ded46178778084b9602b9c...</td>\n",
       "      <td>3</td>\n",
       "      <td>1.622053e+06</td>\n",
       "      <td>0.0</td>\n",
       "      <td>0.0</td>\n",
       "      <td>315225</td>\n",
       "      <td>(0, 0)\\t4.0\\n  (1, 0)\\t22.0\\n  (2, 0)\\t22.0\\...</td>\n",
       "    </tr>\n",
       "  </tbody>\n",
       "</table>\n",
       "</div>"
      ],
      "text/plain": [
       "                                        user_id_hash  session_index  \\\n",
       "0  c9bad12f865142f1b3938c9ab8a3003a7882136a2b4a12...             32   \n",
       "1  285863e47df26bf47664c93d45c35ee3b9cfc8e253da23...              1   \n",
       "2  475f8f20576637055c5331513dda4db1d889f5e951c8e5...             78   \n",
       "3  4bc7b52d56b24d258ba1746994492f354fd4b17fcaae81...              1   \n",
       "4  82349b0d1a80b42e59519068ded46178778084b9602b9c...              3   \n",
       "\n",
       "   duration_session_ratio  week1_purchaser  week2_purchaser  user_enc  \\\n",
       "0            1.712776e+07              0.0              0.0    487769   \n",
       "1            0.000000e+00              0.0              0.0     97433   \n",
       "2            3.262055e+07              0.0              0.0    172753   \n",
       "3            0.000000e+00              0.0              0.0    183435   \n",
       "4            1.622053e+06              0.0              0.0    315225   \n",
       "\n",
       "                                              hashed  \n",
       "0    (0, 0)\\t4.0\\n  (1, 0)\\t22.0\\n  (2, 0)\\t22.0\\...  \n",
       "1    (0, 0)\\t4.0\\n  (1, 0)\\t22.0\\n  (2, 0)\\t22.0\\...  \n",
       "2    (0, 0)\\t4.0\\n  (1, 0)\\t22.0\\n  (2, 0)\\t22.0\\...  \n",
       "3    (0, 0)\\t4.0\\n  (1, 0)\\t22.0\\n  (2, 0)\\t22.0\\...  \n",
       "4    (0, 0)\\t4.0\\n  (1, 0)\\t22.0\\n  (2, 0)\\t22.0\\...  "
      ]
     },
     "execution_count": 216,
     "metadata": {},
     "output_type": "execute_result"
    }
   ],
   "source": [
    "unique_users.head()"
   ]
  },
  {
   "cell_type": "markdown",
   "metadata": {},
   "source": [
    "# Model Creation"
   ]
  },
  {
   "cell_type": "code",
   "execution_count": 262,
   "metadata": {},
   "outputs": [],
   "source": [
    "from sklearn.linear_model import LogisticRegression\n",
    "from sklearn.model_selection import train_test_split\n",
    "from sklearn.metrics import roc_auc_score"
   ]
  },
  {
   "cell_type": "code",
   "execution_count": 228,
   "metadata": {},
   "outputs": [],
   "source": [
    "train, test = unique_users.iloc[:495095], unique_users.iloc[495095:]"
   ]
  },
  {
   "cell_type": "code",
   "execution_count": 247,
   "metadata": {},
   "outputs": [],
   "source": [
    "X_train = train.drop(columns=[\"user_id_hash\", \"week1_purchaser\", \"week2_purchaser\", \"user_enc\", \"hashed\"])\n",
    "X_test = test.drop(columns=[\"user_id_hash\", \"week1_purchaser\", \"week2_purchaser\", \"user_enc\", \"hashed\"])\n",
    "y1_train = train.week1_purchaser\n",
    "y2_train = train.week2_purchaser\n",
    "y1_test = test.week1_purchaser\n",
    "y2_test = test.week2_purchaser"
   ]
  },
  {
   "cell_type": "code",
   "execution_count": 230,
   "metadata": {},
   "outputs": [],
   "source": [
    "lr = LogisticRegression()"
   ]
  },
  {
   "cell_type": "code",
   "execution_count": 243,
   "metadata": {},
   "outputs": [],
   "source": [
    "for col in X_train:\n",
    "    X_train[col] = X_train[col].values"
   ]
  },
  {
   "cell_type": "code",
   "execution_count": 249,
   "metadata": {},
   "outputs": [
    {
     "name": "stderr",
     "output_type": "stream",
     "text": [
      "/usr/local/lib/python3.5/dist-packages/sklearn/linear_model/logistic.py:433: FutureWarning: Default solver will be changed to 'lbfgs' in 0.22. Specify a solver to silence this warning.\n",
      "  FutureWarning)\n",
      "/usr/local/lib/python3.5/dist-packages/sklearn/linear_model/logistic.py:433: FutureWarning: Default solver will be changed to 'lbfgs' in 0.22. Specify a solver to silence this warning.\n",
      "  FutureWarning)\n"
     ]
    }
   ],
   "source": [
    "lr_week1 = lr.fit(X_train, y1_train.values)\n",
    "lr_week2 = lr.fit(X_train, y2_train.values)"
   ]
  },
  {
   "cell_type": "code",
   "execution_count": 293,
   "metadata": {},
   "outputs": [],
   "source": [
    "week1_pred = lr_week1.predict_proba(X_test)[:,0]\n",
    "week1_pred2 = lr_week1.predict_proba(X_train)[:,0]\n",
    "week2_pred = lr_week2.predict_proba(X_test)[:,0]\n",
    "week2_pred2 = lr_week2.predict_proba(X_train)[:,0]"
   ]
  },
  {
   "cell_type": "code",
   "execution_count": 267,
   "metadata": {},
   "outputs": [
    {
     "data": {
      "text/plain": [
       "0.8503998173169813"
      ]
     },
     "execution_count": 267,
     "metadata": {},
     "output_type": "execute_result"
    }
   ],
   "source": [
    "roc_auc_score(y1_test, week1_pred)"
   ]
  },
  {
   "cell_type": "code",
   "execution_count": 268,
   "metadata": {},
   "outputs": [
    {
     "data": {
      "text/plain": [
       "0.8438595898785237"
      ]
     },
     "execution_count": 268,
     "metadata": {},
     "output_type": "execute_result"
    }
   ],
   "source": [
    "roc_auc_score(y2_test, week2_pred)"
   ]
  },
  {
   "cell_type": "code",
   "execution_count": 294,
   "metadata": {},
   "outputs": [
    {
     "data": {
      "text/plain": [
       "0.9336167337075638"
      ]
     },
     "execution_count": 294,
     "metadata": {},
     "output_type": "execute_result"
    }
   ],
   "source": [
    "roc_auc_score(y1_train, week1_pred2)"
   ]
  },
  {
   "cell_type": "code",
   "execution_count": 295,
   "metadata": {},
   "outputs": [
    {
     "data": {
      "text/plain": [
       "0.9217193156098248"
      ]
     },
     "execution_count": 295,
     "metadata": {},
     "output_type": "execute_result"
    }
   ],
   "source": [
    "roc_auc_score(y2_train, week2_pred2)"
   ]
  },
  {
   "cell_type": "markdown",
   "metadata": {},
   "source": [
    "# Predictions"
   ]
  },
  {
   "cell_type": "code",
   "execution_count": 269,
   "metadata": {},
   "outputs": [],
   "source": [
    "bucket_name = 'ml2-group8' # Add your bucket name\n",
    "events = \"sample_submission_2.csv\"\n",
    "s3 = boto3.resource('s3')\n",
    "bucket = s3.Bucket(bucket_name) \n",
    "prediction_obj = bucket.Object(key=events) # S3 uses key-value structure where key is your file name\n",
    "prediction_file = prediction_obj.get()[\"Body\"].read().decode('utf-8') # Read the Body which is the contents of the file."
   ]
  },
  {
   "cell_type": "code",
   "execution_count": 309,
   "metadata": {},
   "outputs": [],
   "source": [
    "X = unique_users[[\"session_index\", \"duration_session_ratio\"]]\n",
    "y1 = unique_users.week1_purchaser\n",
    "y2 = unique_users.week2_purchaser"
   ]
  },
  {
   "cell_type": "code",
   "execution_count": 310,
   "metadata": {},
   "outputs": [
    {
     "name": "stderr",
     "output_type": "stream",
     "text": [
      "/usr/local/lib/python3.5/dist-packages/sklearn/linear_model/logistic.py:433: FutureWarning: Default solver will be changed to 'lbfgs' in 0.22. Specify a solver to silence this warning.\n",
      "  FutureWarning)\n",
      "/usr/local/lib/python3.5/dist-packages/sklearn/linear_model/logistic.py:433: FutureWarning: Default solver will be changed to 'lbfgs' in 0.22. Specify a solver to silence this warning.\n",
      "  FutureWarning)\n"
     ]
    }
   ],
   "source": [
    "full_week1 = lr.fit(X, y1)\n",
    "full_week2 = lr.fit(X, y2)"
   ]
  },
  {
   "cell_type": "code",
   "execution_count": 313,
   "metadata": {},
   "outputs": [],
   "source": [
    "full_week1_pred = full_week1.predict_proba(X)[:,0]\n",
    "full_week2_pred = full_week2.predict_proba(X)[:,0]"
   ]
  },
  {
   "cell_type": "code",
   "execution_count": 277,
   "metadata": {},
   "outputs": [],
   "source": [
    "predictions = prediction_file.split(\"\\n\")"
   ]
  },
  {
   "cell_type": "code",
   "execution_count": 278,
   "metadata": {},
   "outputs": [],
   "source": [
    "prediction_header = predictions[0].split(\",\")\n",
    "predictions = predictions[1:]"
   ]
  },
  {
   "cell_type": "code",
   "execution_count": 279,
   "metadata": {},
   "outputs": [
    {
     "data": {
      "text/plain": [
       "['user_id_hash', 'user_purchase_binary_7_days', 'user_purchase_binary_14_days']"
      ]
     },
     "execution_count": 279,
     "metadata": {},
     "output_type": "execute_result"
    }
   ],
   "source": [
    "prediction_header"
   ]
  },
  {
   "cell_type": "code",
   "execution_count": 280,
   "metadata": {},
   "outputs": [],
   "source": [
    "for row in range(len(predictions)):\n",
    "    predictions[row] = predictions[row].split(\",\")"
   ]
  },
  {
   "cell_type": "code",
   "execution_count": 282,
   "metadata": {},
   "outputs": [],
   "source": [
    "pred_df = pd.DataFrame(predictions, columns=prediction_header)"
   ]
  },
  {
   "cell_type": "code",
   "execution_count": 319,
   "metadata": {},
   "outputs": [],
   "source": [
    "pred_df.to_csv(\"../sample_submission.csv\")"
   ]
  },
  {
   "cell_type": "code",
   "execution_count": 283,
   "metadata": {},
   "outputs": [
    {
     "data": {
      "text/html": [
       "<div>\n",
       "<style scoped>\n",
       "    .dataframe tbody tr th:only-of-type {\n",
       "        vertical-align: middle;\n",
       "    }\n",
       "\n",
       "    .dataframe tbody tr th {\n",
       "        vertical-align: top;\n",
       "    }\n",
       "\n",
       "    .dataframe thead th {\n",
       "        text-align: right;\n",
       "    }\n",
       "</style>\n",
       "<table border=\"1\" class=\"dataframe\">\n",
       "  <thead>\n",
       "    <tr style=\"text-align: right;\">\n",
       "      <th></th>\n",
       "      <th>user_id_hash</th>\n",
       "      <th>user_purchase_binary_7_days</th>\n",
       "      <th>user_purchase_binary_14_days</th>\n",
       "    </tr>\n",
       "  </thead>\n",
       "  <tbody>\n",
       "    <tr>\n",
       "      <th>0</th>\n",
       "      <td>e469dfaed039ead9110165d9bc457acb11609ca34057dc...</td>\n",
       "      <td>0.01</td>\n",
       "      <td>0.02</td>\n",
       "    </tr>\n",
       "    <tr>\n",
       "      <th>1</th>\n",
       "      <td>afcc639a324b6c598ef83d360450afa011cb2dd1358bf9...</td>\n",
       "      <td>0.01</td>\n",
       "      <td>0.02</td>\n",
       "    </tr>\n",
       "    <tr>\n",
       "      <th>2</th>\n",
       "      <td>fd5a7cf211d08e3e00f7be6a9df6e6ea3d2e5c22a5d9c3...</td>\n",
       "      <td>0.01</td>\n",
       "      <td>0.02</td>\n",
       "    </tr>\n",
       "    <tr>\n",
       "      <th>3</th>\n",
       "      <td>00bfff98b9d0329f014c2eeac7ce47cd18b2bc6e10d608...</td>\n",
       "      <td>0.01</td>\n",
       "      <td>0.02</td>\n",
       "    </tr>\n",
       "    <tr>\n",
       "      <th>4</th>\n",
       "      <td>0d298f3638c43e915c119d4935e1ce8d168f81b5e3e8c1...</td>\n",
       "      <td>0.01</td>\n",
       "      <td>0.02</td>\n",
       "    </tr>\n",
       "  </tbody>\n",
       "</table>\n",
       "</div>"
      ],
      "text/plain": [
       "                                        user_id_hash  \\\n",
       "0  e469dfaed039ead9110165d9bc457acb11609ca34057dc...   \n",
       "1  afcc639a324b6c598ef83d360450afa011cb2dd1358bf9...   \n",
       "2  fd5a7cf211d08e3e00f7be6a9df6e6ea3d2e5c22a5d9c3...   \n",
       "3  00bfff98b9d0329f014c2eeac7ce47cd18b2bc6e10d608...   \n",
       "4  0d298f3638c43e915c119d4935e1ce8d168f81b5e3e8c1...   \n",
       "\n",
       "  user_purchase_binary_7_days user_purchase_binary_14_days  \n",
       "0                        0.01                         0.02  \n",
       "1                        0.01                         0.02  \n",
       "2                        0.01                         0.02  \n",
       "3                        0.01                         0.02  \n",
       "4                        0.01                         0.02  "
      ]
     },
     "execution_count": 283,
     "metadata": {},
     "output_type": "execute_result"
    }
   ],
   "source": [
    "pred_df.head()"
   ]
  },
  {
   "cell_type": "code",
   "execution_count": 287,
   "metadata": {},
   "outputs": [],
   "source": [
    "prediction_users = np.array(pred_df.user_id_hash.unique())"
   ]
  },
  {
   "cell_type": "code",
   "execution_count": 288,
   "metadata": {},
   "outputs": [],
   "source": [
    "our_users = np.array(unique_users.user_id_hash)"
   ]
  },
  {
   "cell_type": "code",
   "execution_count": null,
   "metadata": {},
   "outputs": [],
   "source": []
  }
 ],
 "metadata": {
  "kernelspec": {
   "display_name": "Python 3",
   "language": "python",
   "name": "python3"
  },
  "language_info": {
   "codemirror_mode": {
    "name": "ipython",
    "version": 3
   },
   "file_extension": ".py",
   "mimetype": "text/x-python",
   "name": "python",
   "nbconvert_exporter": "python",
   "pygments_lexer": "ipython3",
   "version": "3.7.1"
  }
 },
 "nbformat": 4,
 "nbformat_minor": 2
}
