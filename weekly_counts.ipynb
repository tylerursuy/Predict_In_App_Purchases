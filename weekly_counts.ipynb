{
 "cells": [
  {
   "cell_type": "code",
   "execution_count": 1,
   "metadata": {
    "ExecuteTime": {
     "end_time": "2019-02-26T01:39:13.329225Z",
     "start_time": "2019-02-26T01:39:12.657627Z"
    }
   },
   "outputs": [],
   "source": [
    "import pandas as pd\n",
    "import boto3\n",
    "import numpy as np"
   ]
  },
  {
   "cell_type": "code",
   "execution_count": 3,
   "metadata": {
    "ExecuteTime": {
     "end_time": "2019-02-26T00:42:58.972655Z",
     "start_time": "2019-02-26T00:40:23.845060Z"
    }
   },
   "outputs": [],
   "source": [
    "bucket_name = 'ml2-group8' # Add your bucket name\n",
    "file = 'clean_sessions.csv'\n",
    "s3 = boto3.resource('s3')\n",
    "bucket = s3.Bucket(bucket_name) \n",
    "obj = bucket.Object(key=file) # S3 uses key-value structure where key is your file name\n",
    "sessions = obj.get()[\"Body\"].read().decode('utf-8') # Read the Body which is the contents of the file."
   ]
  },
  {
   "cell_type": "code",
   "execution_count": 7,
   "metadata": {
    "ExecuteTime": {
     "end_time": "2019-02-26T00:44:15.443934Z",
     "start_time": "2019-02-26T00:44:15.236124Z"
    }
   },
   "outputs": [],
   "source": [
    "sessions = sessions.split(\"\\n\")\n",
    "head = sessions[0][1:].split(\",\")\n",
    "sessions = sessions[1:]"
   ]
  },
  {
   "cell_type": "code",
   "execution_count": 15,
   "metadata": {
    "ExecuteTime": {
     "end_time": "2019-02-26T00:46:27.958766Z",
     "start_time": "2019-02-26T00:46:20.893789Z"
    }
   },
   "outputs": [],
   "source": [
    "sessions = [row.split(\",\")[1:] for row in sessions]"
   ]
  },
  {
   "cell_type": "code",
   "execution_count": 18,
   "metadata": {
    "ExecuteTime": {
     "end_time": "2019-02-26T00:47:03.598840Z",
     "start_time": "2019-02-26T00:47:00.040423Z"
    }
   },
   "outputs": [],
   "source": [
    "sessions = pd.DataFrame(sessions, columns=head)"
   ]
  },
  {
   "cell_type": "markdown",
   "metadata": {},
   "source": [
    "## Convert timestamps"
   ]
  },
  {
   "cell_type": "code",
   "execution_count": 31,
   "metadata": {
    "ExecuteTime": {
     "end_time": "2019-02-26T01:01:40.858439Z",
     "start_time": "2019-02-26T01:01:38.228357Z"
    }
   },
   "outputs": [],
   "source": [
    "sessions[\"start_timestamp\"] = pd.to_datetime(sessions[\"start_timestamp\"])"
   ]
  },
  {
   "cell_type": "markdown",
   "metadata": {},
   "source": [
    "## Get weeks"
   ]
  },
  {
   "cell_type": "code",
   "execution_count": 67,
   "metadata": {
    "ExecuteTime": {
     "end_time": "2019-02-26T01:23:54.226214Z",
     "start_time": "2019-02-26T01:23:54.201481Z"
    }
   },
   "outputs": [
    {
     "data": {
      "text/plain": [
       "Timestamp('2018-10-01 07:00:04.526000')"
      ]
     },
     "execution_count": 67,
     "metadata": {},
     "output_type": "execute_result"
    }
   ],
   "source": [
    "sessions.start_timestamp.min()"
   ]
  },
  {
   "cell_type": "code",
   "execution_count": 68,
   "metadata": {
    "ExecuteTime": {
     "end_time": "2019-02-26T01:24:00.203346Z",
     "start_time": "2019-02-26T01:24:00.177322Z"
    }
   },
   "outputs": [
    {
     "data": {
      "text/plain": [
       "Timestamp('2018-12-14 23:59:59.484000')"
      ]
     },
     "execution_count": 68,
     "metadata": {},
     "output_type": "execute_result"
    }
   ],
   "source": [
    "sessions.start_timestamp.max()"
   ]
  },
  {
   "cell_type": "code",
   "execution_count": 61,
   "metadata": {
    "ExecuteTime": {
     "end_time": "2019-02-26T01:22:49.171601Z",
     "start_time": "2019-02-26T01:22:48.039514Z"
    }
   },
   "outputs": [],
   "source": [
    "week1 = sessions[sessions[\"start_timestamp\"] < \"2018-10-08 00:00:00.000\"]\n",
    "week2 = sessions[(sessions[\"start_timestamp\"] >= \"2018-10-08 00:00:00.000\") & \n",
    "                 (sessions[\"start_timestamp\"] < \"2018-10-15 00:00:00.000\")]\n",
    "week3 = sessions[(sessions[\"start_timestamp\"] >= \"2018-10-15 00:00:00.000\") & \n",
    "                 (sessions[\"start_timestamp\"] < \"2018-10-22 00:00:00.000\")]\n",
    "week4 = sessions[(sessions[\"start_timestamp\"] >= \"2018-10-22 00:00:00.000\") & \n",
    "                 (sessions[\"start_timestamp\"] < \"2018-10-29 00:00:00.000\")]\n",
    "week5 = sessions[(sessions[\"start_timestamp\"] >= \"2018-10-29 00:00:00.000\") & \n",
    "                 (sessions[\"start_timestamp\"] < \"2018-11-05 00:00:00.000\")]\n",
    "week6 = sessions[(sessions[\"start_timestamp\"] >= \"2018-11-05 00:00:00.000\") & \n",
    "                 (sessions[\"start_timestamp\"] < \"2018-11-12 00:00:00.000\")]\n",
    "week7 = sessions[(sessions[\"start_timestamp\"] >= \"2018-11-12 00:00:00.000\") & \n",
    "                 (sessions[\"start_timestamp\"] < \"2018-11-19 00:00:00.000\")]\n",
    "week7 = sessions[(sessions[\"start_timestamp\"] >= \"2018-11-19 00:00:00.000\") & \n",
    "                 (sessions[\"start_timestamp\"] < \"2018-11-26 00:00:00.000\")]\n",
    "week8 = sessions[(sessions[\"start_timestamp\"] >= \"2018-11-26 00:00:00.000\") & \n",
    "                 (sessions[\"start_timestamp\"] < \"2018-12-01 00:00:00.000\")]\n",
    "week9 = sessions[(sessions[\"start_timestamp\"] >= \"2018-12-01 00:00:00.000\") & \n",
    "                 (sessions[\"start_timestamp\"] < \"2018-12-08 00:00:00.000\")]\n",
    "week10 = sessions[(sessions[\"start_timestamp\"] >= \"2018-12-08 00:00:00.000\") & \n",
    "                 (sessions[\"start_timestamp\"] < \"2018-12-15 00:00:00.000\")]"
   ]
  },
  {
   "cell_type": "code",
   "execution_count": 62,
   "metadata": {
    "ExecuteTime": {
     "end_time": "2019-02-26T01:22:51.257936Z",
     "start_time": "2019-02-26T01:22:50.911714Z"
    }
   },
   "outputs": [],
   "source": [
    "weeks = [week1, week2, week3, week4, week5, week6, week7, week8, week9, week10]"
   ]
  },
  {
   "cell_type": "code",
   "execution_count": 72,
   "metadata": {
    "ExecuteTime": {
     "end_time": "2019-02-26T01:25:11.710127Z",
     "start_time": "2019-02-26T01:25:10.125878Z"
    }
   },
   "outputs": [],
   "source": [
    "weekly_counts = pd.DataFrame(sessions.user_id_hash.unique(), columns=[\"user_id_hash\"])"
   ]
  },
  {
   "cell_type": "code",
   "execution_count": 73,
   "metadata": {
    "ExecuteTime": {
     "end_time": "2019-02-26T01:25:17.888539Z",
     "start_time": "2019-02-26T01:25:11.712063Z"
    }
   },
   "outputs": [],
   "source": [
    "for i in range(len(weeks)):\n",
    "    count = weeks[i][[\"user_id_hash\", \"session_index\"]].groupby(\"user_id_hash\").count()\n",
    "    count.columns = [f\"Week_{i+1}_Count\"]\n",
    "    weekly_counts = weekly_counts.join(count, on=\"user_id_hash\", how=\"left\")"
   ]
  },
  {
   "cell_type": "code",
   "execution_count": 74,
   "metadata": {
    "ExecuteTime": {
     "end_time": "2019-02-26T01:25:18.086768Z",
     "start_time": "2019-02-26T01:25:17.891390Z"
    }
   },
   "outputs": [],
   "source": [
    "weekly_counts = weekly_counts.fillna(value=0.0)"
   ]
  },
  {
   "cell_type": "code",
   "execution_count": 76,
   "metadata": {
    "ExecuteTime": {
     "end_time": "2019-02-26T01:25:32.495873Z",
     "start_time": "2019-02-26T01:25:27.044612Z"
    }
   },
   "outputs": [],
   "source": [
    "weekly_counts.to_csv(\"../data/weekly_counts_per_user.csv\")"
   ]
  },
  {
   "cell_type": "markdown",
   "metadata": {},
   "source": [
    "## Visualize"
   ]
  },
  {
   "cell_type": "code",
   "execution_count": 1,
   "metadata": {
    "ExecuteTime": {
     "end_time": "2019-03-21T17:00:25.068420Z",
     "start_time": "2019-03-21T17:00:24.334675Z"
    }
   },
   "outputs": [],
   "source": [
    "import pandas as pd\n",
    "import matplotlib.pyplot as plt\n",
    "import numpy as np"
   ]
  },
  {
   "cell_type": "code",
   "execution_count": 2,
   "metadata": {
    "ExecuteTime": {
     "end_time": "2019-03-21T17:00:26.397472Z",
     "start_time": "2019-03-21T17:00:25.070513Z"
    }
   },
   "outputs": [],
   "source": [
    "df = pd.read_csv(\"../data/weekly_counts_per_user.csv\").drop(columns=\"Unnamed: 0\")"
   ]
  },
  {
   "cell_type": "code",
   "execution_count": 6,
   "metadata": {
    "ExecuteTime": {
     "end_time": "2019-02-26T02:57:33.899595Z",
     "start_time": "2019-02-26T02:57:33.787691Z"
    }
   },
   "outputs": [],
   "source": [
    "weekly_sums = np.sum(df.drop(columns=\"user_id_hash\"), axis=0)"
   ]
  },
  {
   "cell_type": "code",
   "execution_count": 151,
   "metadata": {
    "ExecuteTime": {
     "end_time": "2019-02-26T03:07:48.276738Z",
     "start_time": "2019-02-26T03:07:48.145924Z"
    }
   },
   "outputs": [
    {
     "data": {
      "image/png": "[encoded data removed]",
      "text/plain": [
       "<Figure size 504x288 with 1 Axes>"
      ]
     },
     "metadata": {
      "needs_background": "light"
     },
     "output_type": "display_data"
    }
   ],
   "source": [
    "plt.figure(figsize=(7,4))\n",
    "plt.bar(x=range(len(weekly_sums)), height=weekly_sums)\n",
    "plt.title(\"Count of Sessions per Week\")\n",
    "plt.xlabel(\"Week\")\n",
    "plt.ylabel(\"Count\")\n",
    "plt.savefig(\"total_weekly_session.png\")\n",
    "plt.show()"
   ]
  },
  {
   "cell_type": "code",
   "execution_count": 150,
   "metadata": {
    "ExecuteTime": {
     "end_time": "2019-02-26T03:05:50.692194Z",
     "start_time": "2019-02-26T03:05:50.449870Z"
    }
   },
   "outputs": [
    {
     "data": {
      "image/png": "[encoded data removed]",
      "text/plain": [
       "<Figure size 576x360 with 1 Axes>"
      ]
     },
     "metadata": {
      "needs_background": "light"
     },
     "output_type": "display_data"
    }
   ],
   "source": [
    "ten_rand_users = df.sample(10)\n",
    "colors = [\"black\", \"red\", \"blue\", \"yellow\", \"purple\", \"green\", \"orange\", \"cyan\", \"magenta\", \"lime\"]\n",
    "plt.figure(figsize=(8,5))\n",
    "for i in range(len(ten_rand_users)):\n",
    "    plt.plot(range(1,11), ten_rand_users.iloc[i][1:], color=colors[i], label=f\"User {i+1}\")\n",
    "plt.title(\"Random User Usage\")\n",
    "plt.legend()\n",
    "plt.xticks(range(1,11))\n",
    "plt.grid()\n",
    "plt.xlabel(\"Week\")\n",
    "plt.ylabel(\"Session Count\")\n",
    "plt.savefig(\"random_user_counts.png\")\n",
    "plt.show()"
   ]
  },
  {
   "cell_type": "code",
   "execution_count": null,
   "metadata": {},
   "outputs": [],
   "source": []
  }
 ],
 "metadata": {
  "kernelspec": {
   "display_name": "Python 3",
   "language": "python",
   "name": "python3"
  },
  "language_info": {
   "codemirror_mode": {
    "name": "ipython",
    "version": 3
   },
   "file_extension": ".py",
   "mimetype": "text/x-python",
   "name": "python",
   "nbconvert_exporter": "python",
   "pygments_lexer": "ipython3",
   "version": "3.7.1"
  }
 },
 "nbformat": 4,
 "nbformat_minor": 2
}
