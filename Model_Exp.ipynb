{
 "cells": [
  {
   "cell_type": "code",
   "execution_count": 1,
   "metadata": {
    "ExecuteTime": {
     "end_time": "2019-02-26T18:08:09.441223Z",
     "start_time": "2019-02-26T18:08:09.076159Z"
    }
   },
   "outputs": [],
   "source": [
    "import pandas as pd\n",
    "import numpy as np"
   ]
  },
  {
   "cell_type": "markdown",
   "metadata": {},
   "source": [
    "# Read in Files"
   ]
  },
  {
   "cell_type": "code",
   "execution_count": 2,
   "metadata": {},
   "outputs": [],
   "source": [
    "sessions = pd.read_csv(\"sessions.csv\")\n",
    "events = pd.read_csv(\"events.csv\")\n",
    "attr = pd.read_csv(\"small_attributes.csv\")"
   ]
  },
  {
   "cell_type": "code",
   "execution_count": 3,
   "metadata": {},
   "outputs": [],
   "source": [
    "sessions = sessions.drop(columns=\"Unnamed: 0\")\n",
    "events = events.drop(columns=[\"Unnamed: 0\", \"app_id\", \"event\"])\n",
    "attr = attr.drop(columns=\"Unnamed: 0\")"
   ]
  },
  {
   "cell_type": "markdown",
   "metadata": {},
   "source": [
    "# Feature Engineer"
   ]
  },
  {
   "cell_type": "markdown",
   "metadata": {},
   "source": [
    "### Make column for top two countries"
   ]
  },
  {
   "cell_type": "code",
   "execution_count": 6,
   "metadata": {},
   "outputs": [],
   "source": [
    "purchasers = events.groupby(\"user_id_hash\")[\"purchases\"].max()"
   ]
  },
  {
   "cell_type": "code",
   "execution_count": 7,
   "metadata": {},
   "outputs": [],
   "source": [
    "sessions = sessions.join(purchasers, on=\"user_id_hash\", how=\"left\")"
   ]
  },
  {
   "cell_type": "code",
   "execution_count": 8,
   "metadata": {},
   "outputs": [],
   "source": [
    "pop_country = sessions.groupby(\"country\")[\"purchases\"].sum().sort_values(ascending=False)"
   ]
  },
  {
   "cell_type": "code",
   "execution_count": 9,
   "metadata": {},
   "outputs": [],
   "source": [
    "top_country = list(pop_country.iloc[:2].keys())"
   ]
  },
  {
   "cell_type": "code",
   "execution_count": 10,
   "metadata": {},
   "outputs": [
    {
     "data": {
      "text/plain": [
       "['US', 'GB']"
      ]
     },
     "execution_count": 10,
     "metadata": {},
     "output_type": "execute_result"
    }
   ],
   "source": [
    "top_country"
   ]
  },
  {
   "cell_type": "code",
   "execution_count": 11,
   "metadata": {},
   "outputs": [],
   "source": [
    "sessions[top_country[0]] = np.zeros((len(sessions),))\n",
    "sessions[top_country[1]] = np.zeros((len(sessions),))"
   ]
  },
  {
   "cell_type": "code",
   "execution_count": 23,
   "metadata": {},
   "outputs": [],
   "source": [
    "sessions.US = sessions[sessions.country==\"US\"][\"US\"].replace({0.0:1.0})\n",
    "sessions.GB = sessions[sessions.country==\"GB\"][\"GB\"].replace({0.0:1.0})\n",
    "sessions.US = sessions.US.fillna(value=0.0)\n",
    "sessions.GB = sessions.GB.fillna(value=0.0)"
   ]
  },
  {
   "cell_type": "code",
   "execution_count": 29,
   "metadata": {},
   "outputs": [],
   "source": [
    "unique_users = pd.DataFrame(events[\"user_id_hash\"].unique(), columns=[\"user_id_hash\"])"
   ]
  },
  {
   "cell_type": "code",
   "execution_count": 31,
   "metadata": {},
   "outputs": [],
   "source": [
    "user_to_top_country = sessions.groupby(\"user_id_hash\")[[\"US\", \"GB\"]].max()"
   ]
  },
  {
   "cell_type": "code",
   "execution_count": 36,
   "metadata": {},
   "outputs": [],
   "source": [
    "unique_users = unique_users.join(user_to_top_country, on=\"user_id_hash\", how=\"left\")"
   ]
  },
  {
   "cell_type": "markdown",
   "metadata": {},
   "source": [
    "### Session Counts"
   ]
  },
  {
   "cell_type": "code",
   "execution_count": 38,
   "metadata": {},
   "outputs": [],
   "source": [
    "session_counts = sessions[[\"user_id_hash\", \"session_index\"]].groupby(\"user_id_hash\").max()"
   ]
  },
  {
   "cell_type": "code",
   "execution_count": 39,
   "metadata": {},
   "outputs": [],
   "source": [
    "unique_users = unique_users.join(session_counts, on=\"user_id_hash\", how=\"left\")"
   ]
  },
  {
   "cell_type": "markdown",
   "metadata": {},
   "source": [
    "### Session Count / Duration Ratio"
   ]
  },
  {
   "cell_type": "code",
   "execution_count": 57,
   "metadata": {},
   "outputs": [],
   "source": [
    "duration_sum = sessions[[\"user_id_hash\", \"previous_sessions_duration\"]].groupby(\"user_id_hash\").sum()\n",
    "# session_max = sessions[[\"user_id_hash\", \"session_index\"]].groupby(\"user_id_hash\").max()\n",
    "# dur_ses = duration_sum.join(session_max, how=\"outer\")\n",
    "# dur_ses[\"duration_session_ratio\"] = dur_ses.previous_sessions_duration / dur_ses.session_index\n",
    "# dur_ses = dur_ses.drop(columns=[\"session_index\"])"
   ]
  },
  {
   "cell_type": "code",
   "execution_count": 58,
   "metadata": {},
   "outputs": [],
   "source": [
    "duration_sum = duration_sum / 60 / 60"
   ]
  },
  {
   "cell_type": "code",
   "execution_count": 60,
   "metadata": {},
   "outputs": [],
   "source": [
    "unique_users = unique_users.join(duration_sum, on=\"user_id_hash\", how=\"left\")"
   ]
  },
  {
   "cell_type": "code",
   "execution_count": 61,
   "metadata": {},
   "outputs": [],
   "source": [
    "unique_users.previous_sessions_duration = unique_users.previous_sessions_duration.fillna(value=0.0)"
   ]
  },
  {
   "cell_type": "markdown",
   "metadata": {},
   "source": [
    "### Join Attribute Columns"
   ]
  },
  {
   "cell_type": "code",
   "execution_count": 63,
   "metadata": {},
   "outputs": [],
   "source": [
    "attr.index = attr.user_id_hash"
   ]
  },
  {
   "cell_type": "code",
   "execution_count": 64,
   "metadata": {},
   "outputs": [],
   "source": [
    "attr = attr.drop(columns=\"user_id_hash\")"
   ]
  },
  {
   "cell_type": "code",
   "execution_count": 65,
   "metadata": {},
   "outputs": [],
   "source": [
    "unique_users = unique_users.join(attr, on=\"user_id_hash\", how=\"left\")"
   ]
  },
  {
   "cell_type": "markdown",
   "metadata": {},
   "source": [
    "# Create Target"
   ]
  },
  {
   "cell_type": "code",
   "execution_count": 68,
   "metadata": {},
   "outputs": [],
   "source": [
    "dec_events = events[events.event_timestamp >= \"2018-12-01 00:00:00.000\"].sort_values(by=\"event_timestamp\")"
   ]
  },
  {
   "cell_type": "code",
   "execution_count": 69,
   "metadata": {},
   "outputs": [],
   "source": [
    "week1 = dec_events[dec_events.event_timestamp < \"2018-12-08 00:00:00.000\"]\n",
    "week2 = dec_events[dec_events.event_timestamp < \"2018-12-15 00:00:00.000\"]"
   ]
  },
  {
   "cell_type": "code",
   "execution_count": 70,
   "metadata": {},
   "outputs": [],
   "source": [
    "week1_buyers = week1[[\"user_id_hash\", \"purchases\"]].groupby(\"user_id_hash\", as_index=False).sum()\n",
    "week1_buyers[\"week1_purchaser\"] = [1 if x > 0 else 0 for x in week1_buyers.purchases]\n",
    "week1_buyers = week1_buyers.drop(columns=[\"purchases\"])\n",
    "week2_buyers = week2[[\"user_id_hash\", \"purchases\"]].groupby(\"user_id_hash\").sum()\n",
    "week2_buyers[\"week2_purchaser\"] = [1 if x > 0 else 0 for x in week2_buyers.purchases]\n",
    "week2_buyers = week2_buyers.drop(columns=[\"purchases\"])"
   ]
  },
  {
   "cell_type": "code",
   "execution_count": 71,
   "metadata": {},
   "outputs": [],
   "source": [
    "dec_df = week1_buyers.join(week2_buyers, on=\"user_id_hash\", how=\"left\")"
   ]
  },
  {
   "cell_type": "code",
   "execution_count": 72,
   "metadata": {},
   "outputs": [],
   "source": [
    "dec_df.index = dec_df.user_id_hash\n",
    "dec_df = dec_df.drop(columns=\"user_id_hash\")"
   ]
  },
  {
   "cell_type": "code",
   "execution_count": 73,
   "metadata": {},
   "outputs": [],
   "source": [
    "unique_users = unique_users.join(dec_df, on=\"user_id_hash\", how=\"left\").fillna(value=0)"
   ]
  },
  {
   "cell_type": "code",
   "execution_count": 215,
   "metadata": {},
   "outputs": [],
   "source": [
    "unique_users.to_csv(\"/dev/shm/unique_users.csv\")"
   ]
  },
  {
   "cell_type": "markdown",
   "metadata": {},
   "source": [
    "# Create Model"
   ]
  },
  {
   "cell_type": "code",
   "execution_count": 76,
   "metadata": {},
   "outputs": [],
   "source": [
    "from sklearn.ensemble import RandomForestClassifier\n",
    "from xgboost import XGBClassifier\n",
    "from sklearn.linear_model import LogisticRegression\n",
    "from sklearn.metrics import roc_auc_score\n",
    "import pandas as pd\n",
    "import numpy as np\n",
    "from sklearn.model_selection import GridSearchCV"
   ]
  },
  {
   "cell_type": "code",
   "execution_count": 55,
   "metadata": {},
   "outputs": [],
   "source": [
    "# unique_users = pd.read_csv(\"unique_users.csv\").drop(columns=\"Unnamed: 0\")"
   ]
  },
  {
   "cell_type": "code",
   "execution_count": 77,
   "metadata": {},
   "outputs": [
    {
     "data": {
      "text/plain": [
       "527850.85"
      ]
     },
     "execution_count": 77,
     "metadata": {},
     "output_type": "execute_result"
    }
   ],
   "source": [
    "len(unique_users) * 0.85"
   ]
  },
  {
   "cell_type": "code",
   "execution_count": 78,
   "metadata": {},
   "outputs": [],
   "source": [
    "train, test = unique_users.iloc[:527850], unique_users.iloc[527850:]"
   ]
  },
  {
   "cell_type": "code",
   "execution_count": 80,
   "metadata": {},
   "outputs": [],
   "source": [
    "X_train = train.drop(columns=[\"user_id_hash\", \"week1_purchaser\", \"week2_purchaser\"])\n",
    "X_test = test.drop(columns=[\"user_id_hash\", \"week1_purchaser\", \"week2_purchaser\"])\n",
    "y1_train = train.week1_purchaser\n",
    "y2_train = train.week2_purchaser\n",
    "y1_test = test.week1_purchaser\n",
    "y2_test = test.week2_purchaser"
   ]
  },
  {
   "cell_type": "code",
   "execution_count": 137,
   "metadata": {},
   "outputs": [
    {
     "data": {
      "text/plain": [
       "6"
      ]
     },
     "execution_count": 137,
     "metadata": {},
     "output_type": "execute_result"
    }
   ],
   "source": [
    "len(X.columns)"
   ]
  },
  {
   "cell_type": "code",
   "execution_count": 197,
   "metadata": {},
   "outputs": [],
   "source": [
    "# xg_search_space = {\"learning_rate\":np.linspace(0.05, 0.2, 4), \"subsample\":np.linspace(0.8, 1.0, 4), \n",
    "#                \"n_estimators\":[50, 100, 150, 200], \"max_depth\":[1,2,3]}\n",
    "rf_search_space = {\"max_depth\":[40,50,60]}"
   ]
  },
  {
   "cell_type": "code",
   "execution_count": 198,
   "metadata": {},
   "outputs": [],
   "source": [
    "xg = XGBClassifier(njobs=-1, learning_rate=0.1, n_estimators=150, max_depth=3)\n",
    "rf = RandomForestClassifier(n_jobs=-1, max_features=5, n_estimators=100, min_samples_leaf=40)\n",
    "lr = LogisticRegression()"
   ]
  },
  {
   "cell_type": "code",
   "execution_count": 199,
   "metadata": {},
   "outputs": [],
   "source": [
    "search = GridSearchCV(rf, rf_search_space, cv=10)"
   ]
  },
  {
   "cell_type": "code",
   "execution_count": 200,
   "metadata": {
    "scrolled": true
   },
   "outputs": [
    {
     "data": {
      "text/plain": [
       "GridSearchCV(cv=10, error_score='raise',\n",
       "       estimator=RandomForestClassifier(bootstrap=True, class_weight=None, criterion='gini',\n",
       "            max_depth=None, max_features=5, max_leaf_nodes=None,\n",
       "            min_impurity_decrease=0.0, min_impurity_split=None,\n",
       "            min_samples_leaf=40, min_samples_split=2,\n",
       "            min_weight_fraction_leaf=0.0, n_estimators=100, n_jobs=-1,\n",
       "            oob_score=False, random_state=None, verbose=0,\n",
       "            warm_start=False),\n",
       "       fit_params=None, iid=True, n_jobs=1,\n",
       "       param_grid={'max_depth': [40, 50, 60]}, pre_dispatch='2*n_jobs',\n",
       "       refit=True, return_train_score='warn', scoring=None, verbose=0)"
      ]
     },
     "execution_count": 200,
     "metadata": {},
     "output_type": "execute_result"
    }
   ],
   "source": [
    "search.fit(X_train, y1_train)"
   ]
  },
  {
   "cell_type": "code",
   "execution_count": 201,
   "metadata": {
    "scrolled": true
   },
   "outputs": [
    {
     "data": {
      "text/plain": [
       "{'max_depth': 40}"
      ]
     },
     "execution_count": 201,
     "metadata": {},
     "output_type": "execute_result"
    }
   ],
   "source": [
    "search.best_params_"
   ]
  },
  {
   "cell_type": "code",
   "execution_count": 202,
   "metadata": {},
   "outputs": [],
   "source": [
    "best_est = search.best_estimator_"
   ]
  },
  {
   "cell_type": "code",
   "execution_count": 203,
   "metadata": {},
   "outputs": [],
   "source": [
    "week1 = best_est.fit(X_train, y1_train.values)\n",
    "week2 = best_est.fit(X_train, y2_train.values)"
   ]
  },
  {
   "cell_type": "code",
   "execution_count": 204,
   "metadata": {},
   "outputs": [],
   "source": [
    "week1_pred = week1.predict_proba(X_test)[:,1]\n",
    "week1_pred2 = week1.predict_proba(X_train)[:,1]\n",
    "week2_pred = week2.predict_proba(X_test)[:,1]\n",
    "week2_pred2 = week2.predict_proba(X_train)[:,1]"
   ]
  },
  {
   "cell_type": "code",
   "execution_count": 205,
   "metadata": {},
   "outputs": [
    {
     "data": {
      "text/plain": [
       "0.9481132028566859"
      ]
     },
     "execution_count": 205,
     "metadata": {},
     "output_type": "execute_result"
    }
   ],
   "source": [
    "roc_auc_score(y1_test, week1_pred)"
   ]
  },
  {
   "cell_type": "code",
   "execution_count": 206,
   "metadata": {},
   "outputs": [
    {
     "data": {
      "text/plain": [
       "0.9492683428785006"
      ]
     },
     "execution_count": 206,
     "metadata": {},
     "output_type": "execute_result"
    }
   ],
   "source": [
    "roc_auc_score(y2_test, week2_pred)"
   ]
  },
  {
   "cell_type": "code",
   "execution_count": 207,
   "metadata": {},
   "outputs": [
    {
     "data": {
      "text/plain": [
       "0.9773119289508729"
      ]
     },
     "execution_count": 207,
     "metadata": {},
     "output_type": "execute_result"
    }
   ],
   "source": [
    "roc_auc_score(y1_train, week1_pred2)"
   ]
  },
  {
   "cell_type": "code",
   "execution_count": 208,
   "metadata": {},
   "outputs": [
    {
     "data": {
      "text/plain": [
       "0.9779664513269934"
      ]
     },
     "execution_count": 208,
     "metadata": {},
     "output_type": "execute_result"
    }
   ],
   "source": [
    "roc_auc_score(y2_train, week2_pred2)"
   ]
  },
  {
   "cell_type": "markdown",
   "metadata": {},
   "source": [
    "# Predictions"
   ]
  },
  {
   "cell_type": "code",
   "execution_count": 209,
   "metadata": {},
   "outputs": [],
   "source": [
    "X = unique_users.drop(columns=[\"user_id_hash\", \"week1_purchaser\", \"week2_purchaser\"])\n",
    "y1 = unique_users.week1_purchaser\n",
    "y2 = unique_users.week2_purchaser"
   ]
  },
  {
   "cell_type": "code",
   "execution_count": 210,
   "metadata": {},
   "outputs": [],
   "source": [
    "full_week1 = best_est.fit(X, y1)\n",
    "full_week2 = best_est.fit(X, y2)"
   ]
  },
  {
   "cell_type": "code",
   "execution_count": 211,
   "metadata": {},
   "outputs": [],
   "source": [
    "full_week1_pred = full_week1.predict_proba(X)[:,1]\n",
    "full_week2_pred = full_week2.predict_proba(X)[:,1]"
   ]
  },
  {
   "cell_type": "code",
   "execution_count": 212,
   "metadata": {},
   "outputs": [
    {
     "data": {
      "text/plain": [
       "0.977333895217746"
      ]
     },
     "execution_count": 212,
     "metadata": {},
     "output_type": "execute_result"
    }
   ],
   "source": [
    "roc_auc_score(y1, full_week1_pred)"
   ]
  },
  {
   "cell_type": "code",
   "execution_count": 213,
   "metadata": {},
   "outputs": [
    {
     "data": {
      "text/plain": [
       "0.9779774906124299"
      ]
     },
     "execution_count": 213,
     "metadata": {},
     "output_type": "execute_result"
    }
   ],
   "source": [
    "roc_auc_score(y2, full_week2_pred)"
   ]
  },
  {
   "cell_type": "code",
   "execution_count": 107,
   "metadata": {},
   "outputs": [],
   "source": [
    "full = np.vstack((unique_users.user_id_hash, full_week1_pred, full_week2_pred))"
   ]
  },
  {
   "cell_type": "code",
   "execution_count": 108,
   "metadata": {},
   "outputs": [],
   "source": [
    "full_df = pd.DataFrame(full).T"
   ]
  },
  {
   "cell_type": "code",
   "execution_count": 109,
   "metadata": {},
   "outputs": [],
   "source": [
    "full_df.index = full_df[0]\n",
    "full_df = full_df.drop(columns=0)"
   ]
  },
  {
   "cell_type": "code",
   "execution_count": 110,
   "metadata": {},
   "outputs": [],
   "source": [
    "full_df.columns = [\"week1\", \"week2\"]"
   ]
  },
  {
   "cell_type": "code",
   "execution_count": 111,
   "metadata": {},
   "outputs": [],
   "source": [
    "submission = pd.read_csv(\"sample_submission_2.csv\")"
   ]
  },
  {
   "cell_type": "code",
   "execution_count": 114,
   "metadata": {},
   "outputs": [],
   "source": [
    "pred = submission.join(full_df, on=\"user_id_hash\", how=\"left\")"
   ]
  },
  {
   "cell_type": "code",
   "execution_count": 115,
   "metadata": {},
   "outputs": [],
   "source": [
    "pred = pred.drop(columns=[\"user_purchase_binary_7_days\", \"user_purchase_binary_14_days\"])"
   ]
  },
  {
   "cell_type": "code",
   "execution_count": 116,
   "metadata": {},
   "outputs": [],
   "source": [
    "pred.columns = [\"user_id_hash\", \"user_purchase_binary_7_days\", \"user_purchase_binary_14_days\"]"
   ]
  },
  {
   "cell_type": "code",
   "execution_count": 122,
   "metadata": {},
   "outputs": [
    {
     "data": {
      "text/plain": [
       "252"
      ]
     },
     "execution_count": 122,
     "metadata": {},
     "output_type": "execute_result"
    }
   ],
   "source": [
    "len(pred[pred.user_purchase_binary_7_days.isna()])"
   ]
  },
  {
   "cell_type": "code",
   "execution_count": 123,
   "metadata": {},
   "outputs": [],
   "source": [
    "pred.user_purchase_binary_7_days = pred.user_purchase_binary_7_days.fillna(value=np.mean(full_week1_pred))\n",
    "pred.user_purchase_binary_14_days = pred.user_purchase_binary_14_days.fillna(value=np.mean(full_week2_pred))"
   ]
  },
  {
   "cell_type": "code",
   "execution_count": 124,
   "metadata": {},
   "outputs": [],
   "source": [
    "pred.to_csv(\"/dev/shm/prediction.csv\", index=False)"
   ]
  },
  {
   "cell_type": "code",
   "execution_count": 125,
   "metadata": {},
   "outputs": [
    {
     "data": {
      "text/plain": [
       "312568"
      ]
     },
     "execution_count": 125,
     "metadata": {},
     "output_type": "execute_result"
    }
   ],
   "source": [
    "len(pred)"
   ]
  },
  {
   "cell_type": "code",
   "execution_count": 134,
   "metadata": {},
   "outputs": [
    {
     "data": {
      "text/plain": [
       "array([0.08335115, 0.01751509, 0.24698984, 0.38490211, 0.11809385,\n",
       "       0.14914797])"
      ]
     },
     "execution_count": 134,
     "metadata": {},
     "output_type": "execute_result"
    }
   ],
   "source": [
    "full_week1.feature_importances_"
   ]
  },
  {
   "cell_type": "markdown",
   "metadata": {},
   "source": [
    "# NEW MODEL"
   ]
  },
  {
   "cell_type": "code",
   "execution_count": 2,
   "metadata": {
    "ExecuteTime": {
     "end_time": "2019-02-26T18:08:32.108846Z",
     "start_time": "2019-02-26T18:08:32.106831Z"
    }
   },
   "outputs": [],
   "source": [
    "import pandas as pd\n",
    "import numpy as np"
   ]
  },
  {
   "cell_type": "code",
   "execution_count": 3,
   "metadata": {
    "ExecuteTime": {
     "end_time": "2019-02-26T18:10:56.321895Z",
     "start_time": "2019-02-26T18:10:54.203097Z"
    }
   },
   "outputs": [],
   "source": [
    "df = pd.read_csv(\"../data/new_train.csv\")"
   ]
  },
  {
   "cell_type": "code",
   "execution_count": 18,
   "metadata": {
    "ExecuteTime": {
     "end_time": "2019-02-26T18:26:41.342129Z",
     "start_time": "2019-02-26T18:26:41.213660Z"
    }
   },
   "outputs": [],
   "source": [
    "for col in df:\n",
    "    if df[col].isna().any():\n",
    "        print(col)"
   ]
  },
  {
   "cell_type": "markdown",
   "metadata": {},
   "source": [
    "### Fill NaN"
   ]
  },
  {
   "cell_type": "code",
   "execution_count": 17,
   "metadata": {
    "ExecuteTime": {
     "end_time": "2019-02-26T18:26:39.577177Z",
     "start_time": "2019-02-26T18:26:39.566496Z"
    }
   },
   "outputs": [],
   "source": [
    "df.event_value = df.event_value.fillna(value=0)\n",
    "df.event_value_per_session = df.event_value_per_session.fillna(value=0)"
   ]
  },
  {
   "cell_type": "code",
   "execution_count": 9,
   "metadata": {
    "ExecuteTime": {
     "end_time": "2019-02-26T18:20:22.161787Z",
     "start_time": "2019-02-26T18:20:22.158230Z"
    },
    "scrolled": true
   },
   "outputs": [
    {
     "data": {
      "text/plain": [
       "Index(['user_id_hash', 'session_index', 'duration_session_ratio',\n",
       "       'week1_purchaser', 'week2_purchaser', 'event_value',\n",
       "       'event_value_per_session', 'US', 'GB', 'previous_sessions_duration',\n",
       "       'avg_count_per_session', 'activity_variance', 'Week_1_Count',\n",
       "       'Week_2_Count', 'Week_3_Count', 'Week_4_Count', 'Week_5_Count',\n",
       "       'Week_6_Count', 'Week_7_Count', 'Week_8_Count', 'Week_9_Count',\n",
       "       'Week_10_Count'],\n",
       "      dtype='object')"
      ]
     },
     "execution_count": 9,
     "metadata": {},
     "output_type": "execute_result"
    }
   ],
   "source": [
    "df.columns"
   ]
  },
  {
   "cell_type": "code",
   "execution_count": 375,
   "metadata": {
    "ExecuteTime": {
     "end_time": "2019-02-26T23:44:46.549476Z",
     "start_time": "2019-02-26T23:44:35.873773Z"
    }
   },
   "outputs": [],
   "source": [
    "# df.to_csv(\"../data/clean_train.csv\")"
   ]
  },
  {
   "cell_type": "code",
   "execution_count": 364,
   "metadata": {
    "ExecuteTime": {
     "end_time": "2019-02-26T23:35:10.747844Z",
     "start_time": "2019-02-26T23:35:10.745011Z"
    }
   },
   "outputs": [],
   "source": [
    "from sklearn.ensemble import RandomForestClassifier\n",
    "from sklearn.metrics import roc_auc_score\n",
    "from xgboost import XGBClassifier, plot_importance\n",
    "import matplotlib.pyplot as plt"
   ]
  },
  {
   "cell_type": "code",
   "execution_count": 201,
   "metadata": {
    "ExecuteTime": {
     "end_time": "2019-02-26T20:08:02.876256Z",
     "start_time": "2019-02-26T20:08:02.821200Z"
    }
   },
   "outputs": [],
   "source": [
    "X = df.drop(columns=[\"week1_purchaser\", \"week2_purchaser\", \"user_id_hash\"])\n",
    "y1 = df.week1_purchaser\n",
    "y2 = df.week2_purchaser"
   ]
  },
  {
   "cell_type": "code",
   "execution_count": 202,
   "metadata": {
    "ExecuteTime": {
     "end_time": "2019-02-26T20:08:05.145262Z",
     "start_time": "2019-02-26T20:08:05.142070Z"
    }
   },
   "outputs": [],
   "source": [
    "split = int(len(df) * 0.5)"
   ]
  },
  {
   "cell_type": "code",
   "execution_count": 203,
   "metadata": {
    "ExecuteTime": {
     "end_time": "2019-02-26T20:08:05.314038Z",
     "start_time": "2019-02-26T20:08:05.310664Z"
    }
   },
   "outputs": [
    {
     "data": {
      "text/plain": [
       "309434.0"
      ]
     },
     "execution_count": 203,
     "metadata": {},
     "output_type": "execute_result"
    }
   ],
   "source": [
    "len(df) * 0.5"
   ]
  },
  {
   "cell_type": "markdown",
   "metadata": {},
   "source": [
    "Using 0.5 of the data to train since we are submitting predictions for about 312,000 users"
   ]
  },
  {
   "cell_type": "code",
   "execution_count": 204,
   "metadata": {
    "ExecuteTime": {
     "end_time": "2019-02-26T20:08:06.567265Z",
     "start_time": "2019-02-26T20:08:06.556220Z"
    }
   },
   "outputs": [],
   "source": [
    "X_train, X_test = X[:split], X[split:]\n",
    "y1_train, y1_test = y1[:split], y2[split:]\n",
    "y2_train, y2_test = y2[:split], y2[split:]"
   ]
  },
  {
   "cell_type": "code",
   "execution_count": 264,
   "metadata": {
    "ExecuteTime": {
     "end_time": "2019-02-26T20:42:08.284081Z",
     "start_time": "2019-02-26T20:42:08.280377Z"
    }
   },
   "outputs": [
    {
     "data": {
      "text/plain": [
       "16.15"
      ]
     },
     "execution_count": 264,
     "metadata": {},
     "output_type": "execute_result"
    }
   ],
   "source": [
    "len(X_train.columns)*.85"
   ]
  },
  {
   "cell_type": "code",
   "execution_count": 276,
   "metadata": {
    "ExecuteTime": {
     "end_time": "2019-02-26T20:46:48.718843Z",
     "start_time": "2019-02-26T20:46:48.715549Z"
    }
   },
   "outputs": [],
   "source": [
    "# rf_1 = RandomForestClassifier(n_estimators=200, n_jobs=-1, min_samples_leaf=15, max_features=0.8)\n",
    "rf_2 = RandomForestClassifier(n_estimators=200, n_jobs=-1, min_samples_leaf=13, max_features=0.8)\n",
    "# xgb = XGBClassifier(max_depth=3, learning_rate=0.1, n_estimators=200, n_jobs=-1, subsample=0.8)\n",
    "xgb = XGBClassifier(max_depth=3, learning_rate=0.25, n_estimators=200, n_jobs=-1, \n",
    "                    colsample_bytree=0.85)"
   ]
  },
  {
   "cell_type": "markdown",
   "metadata": {},
   "source": [
    "### Random Forest / XGB"
   ]
  },
  {
   "cell_type": "code",
   "execution_count": 277,
   "metadata": {
    "ExecuteTime": {
     "end_time": "2019-02-26T20:47:35.170986Z",
     "start_time": "2019-02-26T20:46:49.514631Z"
    }
   },
   "outputs": [],
   "source": [
    "xgb_week1 = xgb.fit(X_train, y1_train)\n",
    "xgb_week2 = xgb.fit(X_train, y2_train)\n",
    "# rf2_week1 = rf_2.fit(X_train, y1_train)\n",
    "# rf2_week2 = rf_2.fit(X_train, y2_train)"
   ]
  },
  {
   "cell_type": "code",
   "execution_count": 370,
   "metadata": {
    "ExecuteTime": {
     "end_time": "2019-02-26T23:36:04.064495Z",
     "start_time": "2019-02-26T23:36:03.886273Z"
    }
   },
   "outputs": [
    {
     "data": {
      "text/plain": [
       "<Figure size 1080x720 with 0 Axes>"
      ]
     },
     "metadata": {},
     "output_type": "display_data"
    },
    {
     "data": {
      "image/png": "[encoded data removed]",
      "text/plain": [
       "<Figure size 432x288 with 1 Axes>"
      ]
     },
     "metadata": {
      "needs_background": "light"
     },
     "output_type": "display_data"
    }
   ],
   "source": [
    "plt.figure(figsize=(15, 10))\n",
    "plot_importance(xgb_week1)\n",
    "plt.show()"
   ]
  },
  {
   "cell_type": "code",
   "execution_count": 359,
   "metadata": {
    "ExecuteTime": {
     "end_time": "2019-02-26T23:33:06.221207Z",
     "start_time": "2019-02-26T23:33:06.111794Z"
    }
   },
   "outputs": [
    {
     "data": {
      "text/plain": [
       "[('event_value', 0.3000057418527219),\n",
       " ('Week_9_Count', 0.18795672211747413),\n",
       " ('event_value_per_session', 0.17678129768033224),\n",
       " ('Week_10_Count', 0.13913719380217937),\n",
       " ('duration_session_ratio', 0.048000369191155634),\n",
       " ('previous_sessions_duration', 0.03271157199856122),\n",
       " ('session_index', 0.028618519936984454),\n",
       " ('avg_count_per_session', 0.01439157516097158),\n",
       " ('activity_variance', 0.011938313647886167),\n",
       " ('Week_5_Count', 0.010506893237733628),\n",
       " ('Week_4_Count', 0.009220091277942656),\n",
       " ('Week_7_Count', 0.009212592562425641),\n",
       " ('Week_6_Count', 0.008545231834580369),\n",
       " ('Week_8_Count', 0.00842010856054275),\n",
       " ('Week_3_Count', 0.006829372058571132),\n",
       " ('Week_2_Count', 0.003885176355839665),\n",
       " ('US', 0.0024559043342664622),\n",
       " ('Week_1_Count', 0.0011194682280625196),\n",
       " ('GB', 0.0002638561617686766)]"
      ]
     },
     "execution_count": 359,
     "metadata": {},
     "output_type": "execute_result"
    }
   ],
   "source": [
    "sorted(list(zip(X_train.columns, rf2_week1.feature_importances_)), key=lambda x: x[1], reverse=True)"
   ]
  },
  {
   "cell_type": "code",
   "execution_count": 358,
   "metadata": {
    "ExecuteTime": {
     "end_time": "2019-02-26T23:32:11.819044Z",
     "start_time": "2019-02-26T23:32:11.810379Z"
    }
   },
   "outputs": [
    {
     "data": {
      "text/plain": [
       "[('event_value', 0.33799535),\n",
       " ('event_value_per_session', 0.1033411),\n",
       " ('Week_10_Count', 0.08857809),\n",
       " ('duration_session_ratio', 0.087024085),\n",
       " ('previous_sessions_duration', 0.08547009),\n",
       " ('Week_9_Count', 0.083139084),\n",
       " ('avg_count_per_session', 0.034965035),\n",
       " ('activity_variance', 0.034965035),\n",
       " ('session_index', 0.025641026),\n",
       " ('Week_8_Count', 0.021756021),\n",
       " ('Week_7_Count', 0.02097902),\n",
       " ('Week_6_Count', 0.018648019),\n",
       " ('Week_4_Count', 0.013209013),\n",
       " ('Week_5_Count', 0.011655011),\n",
       " ('US', 0.007770008),\n",
       " ('GB', 0.007770008),\n",
       " ('Week_3_Count', 0.006993007),\n",
       " ('Week_1_Count', 0.0062160064),\n",
       " ('Week_2_Count', 0.003885004)]"
      ]
     },
     "execution_count": 358,
     "metadata": {},
     "output_type": "execute_result"
    }
   ],
   "source": [
    "sorted(list(zip(X_train.columns, xgb_week1.feature_importances_)), key=lambda x: x[1], reverse=True)"
   ]
  },
  {
   "cell_type": "code",
   "execution_count": 278,
   "metadata": {
    "ExecuteTime": {
     "end_time": "2019-02-26T20:47:38.431100Z",
     "start_time": "2019-02-26T20:47:35.173012Z"
    }
   },
   "outputs": [],
   "source": [
    "xgb_pred1 = xgb_week1.predict_proba(X_test)[:,1]\n",
    "xgb_pred2 = xgb_week2.predict_proba(X_test)[:,1]\n",
    "xgb_pred1_train = xgb_week1.predict_proba(X_train)[:,1]\n",
    "xgb_pred2_train = xgb_week2.predict_proba(X_train)[:,1]\n",
    "# rf2_pred1 = rf2_week1.predict_proba(X_test)[:,1]\n",
    "# rf2_pred2 = rf2_week2.predict_proba(X_test)[:,1]\n",
    "# rf2_pred1_train = rf2_week1.predict_proba(X_train)[:,1]\n",
    "# rf2_pred2_train = rf2_week2.predict_proba(X_train)[:,1]"
   ]
  },
  {
   "cell_type": "code",
   "execution_count": 279,
   "metadata": {
    "ExecuteTime": {
     "end_time": "2019-02-26T20:47:52.646415Z",
     "start_time": "2019-02-26T20:47:52.315566Z"
    }
   },
   "outputs": [
    {
     "name": "stdout",
     "output_type": "stream",
     "text": [
      "XGB Week1 Train: 0.9986922185292719\n",
      "XGB Week1 Val: 0.9950401347808341\n",
      "XGB Week2 Train: 0.9991247812436075\n",
      "XGB Week2 Val: 0.9950401347808341\n"
     ]
    }
   ],
   "source": [
    "print(f\"XGB Week1 Train: {roc_auc_score(y1_train, xgb_pred1_train)}\")\n",
    "print(f\"XGB Week1 Val: {roc_auc_score(y1_test, xgb_pred1)}\")\n",
    "print(f\"XGB Week2 Train: {roc_auc_score(y2_train, xgb_pred2_train)}\")\n",
    "print(f\"XGB Week2 Val: {roc_auc_score(y2_test, xgb_pred2)}\")"
   ]
  },
  {
   "cell_type": "code",
   "execution_count": 275,
   "metadata": {
    "ExecuteTime": {
     "end_time": "2019-02-26T20:46:14.870932Z",
     "start_time": "2019-02-26T20:46:14.554487Z"
    }
   },
   "outputs": [
    {
     "name": "stdout",
     "output_type": "stream",
     "text": [
      "XGB Week1 Train: 0.9981355879523023\n",
      "XGB Week1 Val: 0.9953257632651523\n",
      "XGB Week2 Train: 0.998473245380111\n",
      "XGB Week2 Val: 0.9953257632651523\n"
     ]
    }
   ],
   "source": [
    "print(f\"XGB Week1 Train: {roc_auc_score(y1_train, xgb_pred1_train)}\")\n",
    "print(f\"XGB Week1 Val: {roc_auc_score(y1_test, xgb_pred1)}\")\n",
    "print(f\"XGB Week2 Train: {roc_auc_score(y2_train, xgb_pred2_train)}\")\n",
    "print(f\"XGB Week2 Val: {roc_auc_score(y2_test, xgb_pred2)}\")"
   ]
  },
  {
   "cell_type": "code",
   "execution_count": 216,
   "metadata": {
    "ExecuteTime": {
     "end_time": "2019-02-26T20:13:54.385847Z",
     "start_time": "2019-02-26T20:13:54.135538Z"
    }
   },
   "outputs": [
    {
     "name": "stdout",
     "output_type": "stream",
     "text": [
      "RF2 Week1 Train: 0.9986829646101931\n",
      "RF2 Week1 Val: 0.9950142117410427\n",
      "RF2 Week2 Train: 0.9991089747389384\n",
      "RF2 Week2 Val: 0.9950142117410427\n"
     ]
    }
   ],
   "source": [
    "print(f\"RF2 Week1 Train: {roc_auc_score(y1_train, rf2_pred1_train)}\")\n",
    "print(f\"RF2 Week1 Val: {roc_auc_score(y1_test, rf2_pred1)}\")\n",
    "print(f\"RF2 Week2 Train: {roc_auc_score(y2_train, rf2_pred2_train)}\")\n",
    "print(f\"RF2 Week2 Val: {roc_auc_score(y2_test, rf2_pred2)}\")"
   ]
  },
  {
   "cell_type": "markdown",
   "metadata": {},
   "source": [
    "### Train full RF / XGB"
   ]
  },
  {
   "cell_type": "code",
   "execution_count": 43,
   "metadata": {
    "ExecuteTime": {
     "end_time": "2019-02-26T18:35:19.339301Z",
     "start_time": "2019-02-26T18:35:19.140497Z"
    }
   },
   "outputs": [],
   "source": [
    "unique_users = pd.DataFrame(df.user_id_hash.unique(), columns=[\"user_id_hash\"])"
   ]
  },
  {
   "cell_type": "code",
   "execution_count": 330,
   "metadata": {
    "ExecuteTime": {
     "end_time": "2019-02-26T23:02:14.219990Z",
     "start_time": "2019-02-26T23:02:13.762069Z"
    }
   },
   "outputs": [],
   "source": [
    "submission = pd.read_csv(\"../data/sample_submission_2.csv\")"
   ]
  },
  {
   "cell_type": "code",
   "execution_count": 340,
   "metadata": {
    "ExecuteTime": {
     "end_time": "2019-02-26T23:03:24.563692Z",
     "start_time": "2019-02-26T23:03:24.560158Z"
    }
   },
   "outputs": [
    {
     "data": {
      "text/plain": [
       "'b7b3a2242f219edf2b9cef57aa586e7e0c80f4519e8f3f96709211c212c73996'"
      ]
     },
     "execution_count": 340,
     "metadata": {},
     "output_type": "execute_result"
    }
   ],
   "source": [
    "submission.user_id_hash[1000]"
   ]
  },
  {
   "cell_type": "code",
   "execution_count": 418,
   "metadata": {
    "ExecuteTime": {
     "end_time": "2019-02-27T01:42:44.671405Z",
     "start_time": "2019-02-27T01:42:44.398940Z"
    }
   },
   "outputs": [
    {
     "name": "stdout",
     "output_type": "stream",
     "text": [
      "Week1 Train: 0.9983562006020161\n",
      "Week2 Train: 0.9989285533910622\n"
     ]
    }
   ],
   "source": [
    "new_week1 = rf_2.fit(X, y1)\n",
    "new_week2 = rf_2.fit(X, y2)\n",
    "new_week1_pred = new_week1.predict_proba(X)[:,1]\n",
    "new_week2_pred = new_week2.predict_proba(X)[:,1]\n",
    "print(f\"Week1 Train: {roc_auc_score(y1, new_week1_pred)}\")\n",
    "print(f\"Week2 Train: {roc_auc_score(y2, new_week2_pred)}\")"
   ]
  },
  {
   "cell_type": "code",
   "execution_count": 280,
   "metadata": {
    "ExecuteTime": {
     "end_time": "2019-02-26T20:50:24.473373Z",
     "start_time": "2019-02-26T20:48:43.636429Z"
    }
   },
   "outputs": [
    {
     "name": "stdout",
     "output_type": "stream",
     "text": [
      "Week1 Train: 0.9973394186601433\n",
      "Week2 Train: 0.9978126463948638\n"
     ]
    }
   ],
   "source": [
    "new_xgb_week1 = xgb.fit(X, y1)\n",
    "new_xgb_week2 = xgb.fit(X, y2)\n",
    "xgb_week1_pred = new_xgb_week1.predict_proba(X)[:,1]\n",
    "xgb_week2_pred = new_xgb_week2.predict_proba(X)[:,1]\n",
    "print(f\"Week1 Train: {roc_auc_score(y1, xgb_week1_pred)}\")\n",
    "print(f\"Week2 Train: {roc_auc_score(y2, xgb_week2_pred)}\")"
   ]
  },
  {
   "cell_type": "code",
   "execution_count": 419,
   "metadata": {
    "ExecuteTime": {
     "end_time": "2019-02-27T01:42:49.881876Z",
     "start_time": "2019-02-27T01:42:49.877894Z"
    }
   },
   "outputs": [],
   "source": [
    "week1_pred = new_week1_pred\n",
    "week2_pred = new_week2_pred"
   ]
  },
  {
   "cell_type": "code",
   "execution_count": 420,
   "metadata": {
    "ExecuteTime": {
     "end_time": "2019-02-27T01:43:02.114911Z",
     "start_time": "2019-02-27T01:43:01.973054Z"
    }
   },
   "outputs": [],
   "source": [
    "predictions = pd.DataFrame(np.vstack((unique_users.user_id_hash, week1_pred, week2_pred))).T"
   ]
  },
  {
   "cell_type": "code",
   "execution_count": 421,
   "metadata": {
    "ExecuteTime": {
     "end_time": "2019-02-27T01:43:05.198923Z",
     "start_time": "2019-02-27T01:43:05.196077Z"
    }
   },
   "outputs": [],
   "source": [
    "predictions.columns = [\"user_id_hash\", \"week1\", \"week2\"]"
   ]
  },
  {
   "cell_type": "code",
   "execution_count": 422,
   "metadata": {
    "ExecuteTime": {
     "end_time": "2019-02-27T01:43:07.599954Z",
     "start_time": "2019-02-27T01:43:07.580945Z"
    }
   },
   "outputs": [],
   "source": [
    "predictions.index = predictions[\"user_id_hash\"]\n",
    "predictions = predictions.drop(columns=\"user_id_hash\")"
   ]
  },
  {
   "cell_type": "code",
   "execution_count": 423,
   "metadata": {
    "ExecuteTime": {
     "end_time": "2019-02-27T01:43:09.959507Z",
     "start_time": "2019-02-27T01:43:09.493020Z"
    }
   },
   "outputs": [],
   "source": [
    "submission = submission.join(predictions, on=\"user_id_hash\", how=\"left\")"
   ]
  },
  {
   "cell_type": "code",
   "execution_count": 424,
   "metadata": {
    "ExecuteTime": {
     "end_time": "2019-02-27T01:43:13.205931Z",
     "start_time": "2019-02-27T01:43:12.957313Z"
    }
   },
   "outputs": [],
   "source": [
    "submission = submission.drop(columns=[\"user_purchase_binary_7_days\", \"user_purchase_binary_14_days\"])\n",
    "submission.columns = [\"user_id_hash\", \"user_purchase_binary_7_days\", \"user_purchase_binary_14_days\"]"
   ]
  },
  {
   "cell_type": "code",
   "execution_count": 425,
   "metadata": {
    "ExecuteTime": {
     "end_time": "2019-02-27T01:43:15.088182Z",
     "start_time": "2019-02-27T01:43:15.053405Z"
    }
   },
   "outputs": [
    {
     "data": {
      "text/plain": [
       "1354"
      ]
     },
     "execution_count": 425,
     "metadata": {},
     "output_type": "execute_result"
    }
   ],
   "source": [
    "submission.user_purchase_binary_7_days.isna().astype(int).sum()"
   ]
  },
  {
   "cell_type": "code",
   "execution_count": 426,
   "metadata": {
    "ExecuteTime": {
     "end_time": "2019-02-27T01:43:17.015461Z",
     "start_time": "2019-02-27T01:43:17.011340Z"
    }
   },
   "outputs": [
    {
     "data": {
      "text/plain": [
       "0.009895202327160433"
      ]
     },
     "execution_count": 426,
     "metadata": {},
     "output_type": "execute_result"
    }
   ],
   "source": [
    "np.mean(week1_pred)"
   ]
  },
  {
   "cell_type": "code",
   "execution_count": 427,
   "metadata": {
    "ExecuteTime": {
     "end_time": "2019-02-27T01:43:19.107814Z",
     "start_time": "2019-02-27T01:43:18.901087Z"
    }
   },
   "outputs": [],
   "source": [
    "submission.user_purchase_binary_7_days = submission.user_purchase_binary_7_days.fillna(value=np.mean(week1_pred))\n",
    "submission.user_purchase_binary_14_days = submission.user_purchase_binary_14_days.fillna(value=np.mean(week2_pred))"
   ]
  },
  {
   "cell_type": "code",
   "execution_count": 428,
   "metadata": {
    "ExecuteTime": {
     "end_time": "2019-02-27T01:43:23.419580Z",
     "start_time": "2019-02-27T01:43:22.389529Z"
    }
   },
   "outputs": [],
   "source": [
    "submission.to_csv(\"../data/rf_prediction.csv\", index=False)"
   ]
  },
  {
   "cell_type": "markdown",
   "metadata": {},
   "source": []
  }
 ],
 "metadata": {
  "kernelspec": {
   "display_name": "Python 3",
   "language": "python",
   "name": "python3"
  },
  "language_info": {
   "codemirror_mode": {
    "name": "ipython",
    "version": 3
   },
   "file_extension": ".py",
   "mimetype": "text/x-python",
   "name": "python",
   "nbconvert_exporter": "python",
   "pygments_lexer": "ipython3",
   "version": "3.7.1"
  }
 },
 "nbformat": 4,
 "nbformat_minor": 2
}
